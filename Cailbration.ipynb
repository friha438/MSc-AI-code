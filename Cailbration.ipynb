{
 "cells": [
  {
   "cell_type": "code",
   "execution_count": 1,
   "id": "af2ac8bd",
   "metadata": {},
   "outputs": [],
   "source": [
    "import numpy as np\n",
    "import pandas as pd\n",
    "import math\n",
    "import random\n",
    "import bisect \n",
    "import seaborn as sns\n",
    "import matplotlib.pyplot as plt\n",
    "import scipy.stats as stats\n",
    "from ngboost import NGBRegressor\n",
    "from sklearn.gaussian_process import GaussianProcessRegressor\n",
    "from sklearn.gaussian_process.kernels import WhiteKernel, Matern\n",
    "from sklearn.model_selection import train_test_split\n",
    "from sklearn.preprocessing import MinMaxScaler\n",
    "from sklearn.isotonic import IsotonicRegression\n",
    "\n",
    "# Hide some warnings\n",
    "pd.options.mode.chained_assignment = None "
   ]
  },
  {
   "cell_type": "code",
   "execution_count": 2,
   "id": "cd9072a6",
   "metadata": {},
   "outputs": [],
   "source": [
    "# Load four sheets from excel file\n",
    "\n",
    "denver = pd.read_excel('Datas.xls', sheet_name='DEN')\n",
    "newyork = pd.read_excel('Datas.xls', sheet_name='NYC')\n",
    "sanfrancisco = pd.read_excel('Datas.xls', sheet_name='SFC')\n",
    "texas = pd.read_excel('Datas.xls', sheet_name='TXS')\n",
    "\n",
    "# Set random seed\n",
    "random.seed(48)"
   ]
  },
  {
   "cell_type": "code",
   "execution_count": 3,
   "id": "dcf24ad5",
   "metadata": {},
   "outputs": [],
   "source": [
    "# Cleen data to make it easier to handle\n",
    "\n",
    "denver['station'] = denver['station'].replace(np.nan,'DENVER INTL AP')\n",
    "denver['station'] = denver['station'].replace('DENVER INTL AP', 'DEN')\n",
    "newyork['station'] = newyork['station'].replace(np.nan, 'JFK')\n",
    "sfc = sanfrancisco.drop(columns = 'valid', axis=1)"
   ]
  },
  {
   "cell_type": "code",
   "execution_count": 4,
   "id": "119e0deb",
   "metadata": {},
   "outputs": [],
   "source": [
    "#Function to rename columns \n",
    "\n",
    "def rename_columns(df, col_names):\n",
    "    cols = df.columns\n",
    "    for col, new_col in zip(cols, col_names):\n",
    "        df.rename(columns={col:new_col}, inplace=True)"
   ]
  },
  {
   "cell_type": "code",
   "execution_count": 5,
   "id": "aa958294",
   "metadata": {},
   "outputs": [],
   "source": [
    "# Rename columns in all datasets to same column names\n",
    "\n",
    "col_names = ['station', 'skycloud', 'day', 'tmpf', 'feel', \n",
    "             'zenith', 'azimuth', 'glob', 'direct', \n",
    "             'diffused', 'albedo', 'time', 'power']\n",
    "\n",
    "rename_columns(denver, col_names)\n",
    "rename_columns(newyork, col_names)\n",
    "rename_columns(sfc, col_names)\n",
    "rename_columns(texas, col_names)"
   ]
  },
  {
   "cell_type": "code",
   "execution_count": 6,
   "id": "83d80341",
   "metadata": {},
   "outputs": [],
   "source": [
    "# Join all 4 datasets into a single dataframe\n",
    "\n",
    "frames = [denver, newyork, sfc, texas]\n",
    "data = pd.concat(frames)\n",
    "\n",
    "\n",
    "# Create dataset for denver station\n",
    "den = data.loc[data['station'] == 'DEN']"
   ]
  },
  {
   "cell_type": "code",
   "execution_count": 7,
   "id": "741ceb1f",
   "metadata": {},
   "outputs": [],
   "source": [
    "# Drop columns with low correlation\n",
    "\n",
    "den = den.drop(columns = ['skycloud', 'feel', 'albedo'], axis=1)"
   ]
  },
  {
   "cell_type": "code",
   "execution_count": 8,
   "id": "18e9d4cb",
   "metadata": {},
   "outputs": [],
   "source": [
    "# Drop rows with azimuth = -99 values\n",
    "\n",
    "den.drop(den.index[den['azimuth'] == -99], inplace = True)"
   ]
  },
  {
   "cell_type": "code",
   "execution_count": 9,
   "id": "b5c5c992",
   "metadata": {},
   "outputs": [],
   "source": [
    "# Create X and y values\n",
    "\n",
    "X_val = den.drop(columns = ['station', 'power','day'], axis=1) \n",
    "X = X_val.values\n",
    "y = den.power.values"
   ]
  },
  {
   "cell_type": "code",
   "execution_count": 10,
   "id": "f798a620",
   "metadata": {},
   "outputs": [],
   "source": [
    "# Train test split and scale data\n",
    "\n",
    "X_train, X_test, y_train, y_test = train_test_split(X, y, train_size=300, random_state=48, shuffle=True)\n",
    "y_train = y_train.reshape(-1,1)\n",
    "y_test = y_test.reshape(-1,1)\n",
    "\n",
    "scaler = MinMaxScaler()\n",
    "X_tr_sc = scaler.fit_transform(X_train)\n",
    "X_te_sc = scaler.transform(X_test)\n",
    "y_tr_sc = scaler.fit_transform(y_train)\n",
    "y_te_sc = scaler.transform(y_test)"
   ]
  },
  {
   "cell_type": "code",
   "execution_count": 11,
   "id": "63b77a04",
   "metadata": {},
   "outputs": [],
   "source": [
    "X_calib, X_true_test, y_calib, y_true_test = train_test_split(X_te_sc, y_te_sc, test_size=0.5, random_state=48, shuffle=True)"
   ]
  },
  {
   "cell_type": "code",
   "execution_count": 12,
   "id": "aa7c3ff8",
   "metadata": {},
   "outputs": [],
   "source": [
    "# Create length scale and length scale bounds\n",
    "\n",
    "feature_len = len(X_tr_sc[0])\n",
    "len_scale = np.ones(feature_len)\n",
    "\n",
    "hp_low = 1e-10\n",
    "hp_high = 100000\n",
    "\n",
    "hp_bounds = np.zeros(shape = (feature_len,2))\n",
    "hp_bounds[:,0] = hp_low\n",
    "hp_bounds[:,1] = hp_high"
   ]
  },
  {
   "cell_type": "code",
   "execution_count": 13,
   "id": "cd68d73b",
   "metadata": {},
   "outputs": [],
   "source": [
    "# sklearn gpr model matern 52 kernel + white kernel\n",
    "def gpr_model(len_sc, hp_b, X_tr, y_tr, X_cal, X_test):\n",
    "    kernel = Matern(length_scale=len_sc, length_scale_bounds=hp_b, nu=2.5) + WhiteKernel(noise_level=0.1)\n",
    "    model = GaussianProcessRegressor(kernel=kernel)\n",
    "    model.fit(X_tr, y_tr)\n",
    "    mean_calib, std_calib = model.predict(X_cal, return_std=True)\n",
    "    mean_true_test, std_true_test = model.predict(X_test, return_std=True)\n",
    "    \n",
    "    return mean_calib, std_calib, mean_true_test, std_true_test"
   ]
  },
  {
   "cell_type": "code",
   "execution_count": 130,
   "id": "f01e1741",
   "metadata": {},
   "outputs": [
    {
     "ename": "TypeError",
     "evalue": "float() argument must be a string or a number, not 'Matern'",
     "output_type": "error",
     "traceback": [
      "\u001b[1;31m---------------------------------------------------------------------------\u001b[0m",
      "\u001b[1;31mTypeError\u001b[0m                                 Traceback (most recent call last)",
      "\u001b[1;32m<ipython-input-130-899299b4f5ef>\u001b[0m in \u001b[0;36m<module>\u001b[1;34m\u001b[0m\n\u001b[1;32m----> 1\u001b[1;33m \u001b[0mplt\u001b[0m\u001b[1;33m.\u001b[0m\u001b[0mplot\u001b[0m\u001b[1;33m(\u001b[0m\u001b[0mMatern\u001b[0m\u001b[1;33m(\u001b[0m\u001b[0mlength_scale\u001b[0m\u001b[1;33m=\u001b[0m\u001b[0mlen_scale\u001b[0m\u001b[1;33m,\u001b[0m \u001b[0mlength_scale_bounds\u001b[0m\u001b[1;33m=\u001b[0m\u001b[0mhp_bounds\u001b[0m\u001b[1;33m,\u001b[0m \u001b[0mnu\u001b[0m\u001b[1;33m=\u001b[0m\u001b[1;36m2.5\u001b[0m\u001b[1;33m)\u001b[0m\u001b[1;33m)\u001b[0m\u001b[1;33m\u001b[0m\u001b[1;33m\u001b[0m\u001b[0m\n\u001b[0m",
      "\u001b[1;32m~\\anaconda3\\envs\\DeepLearning\\lib\\site-packages\\matplotlib\\pyplot.py\u001b[0m in \u001b[0;36mplot\u001b[1;34m(scalex, scaley, data, *args, **kwargs)\u001b[0m\n\u001b[0;32m   2838\u001b[0m \u001b[1;33m@\u001b[0m\u001b[0m_copy_docstring_and_deprecators\u001b[0m\u001b[1;33m(\u001b[0m\u001b[0mAxes\u001b[0m\u001b[1;33m.\u001b[0m\u001b[0mplot\u001b[0m\u001b[1;33m)\u001b[0m\u001b[1;33m\u001b[0m\u001b[1;33m\u001b[0m\u001b[0m\n\u001b[0;32m   2839\u001b[0m \u001b[1;32mdef\u001b[0m \u001b[0mplot\u001b[0m\u001b[1;33m(\u001b[0m\u001b[1;33m*\u001b[0m\u001b[0margs\u001b[0m\u001b[1;33m,\u001b[0m \u001b[0mscalex\u001b[0m\u001b[1;33m=\u001b[0m\u001b[1;32mTrue\u001b[0m\u001b[1;33m,\u001b[0m \u001b[0mscaley\u001b[0m\u001b[1;33m=\u001b[0m\u001b[1;32mTrue\u001b[0m\u001b[1;33m,\u001b[0m \u001b[0mdata\u001b[0m\u001b[1;33m=\u001b[0m\u001b[1;32mNone\u001b[0m\u001b[1;33m,\u001b[0m \u001b[1;33m**\u001b[0m\u001b[0mkwargs\u001b[0m\u001b[1;33m)\u001b[0m\u001b[1;33m:\u001b[0m\u001b[1;33m\u001b[0m\u001b[1;33m\u001b[0m\u001b[0m\n\u001b[1;32m-> 2840\u001b[1;33m     return gca().plot(\n\u001b[0m\u001b[0;32m   2841\u001b[0m         \u001b[1;33m*\u001b[0m\u001b[0margs\u001b[0m\u001b[1;33m,\u001b[0m \u001b[0mscalex\u001b[0m\u001b[1;33m=\u001b[0m\u001b[0mscalex\u001b[0m\u001b[1;33m,\u001b[0m \u001b[0mscaley\u001b[0m\u001b[1;33m=\u001b[0m\u001b[0mscaley\u001b[0m\u001b[1;33m,\u001b[0m\u001b[1;33m\u001b[0m\u001b[1;33m\u001b[0m\u001b[0m\n\u001b[0;32m   2842\u001b[0m         **({\"data\": data} if data is not None else {}), **kwargs)\n",
      "\u001b[1;32m~\\anaconda3\\envs\\DeepLearning\\lib\\site-packages\\matplotlib\\axes\\_axes.py\u001b[0m in \u001b[0;36mplot\u001b[1;34m(self, scalex, scaley, data, *args, **kwargs)\u001b[0m\n\u001b[0;32m   1743\u001b[0m         \u001b[0mlines\u001b[0m \u001b[1;33m=\u001b[0m \u001b[1;33m[\u001b[0m\u001b[1;33m*\u001b[0m\u001b[0mself\u001b[0m\u001b[1;33m.\u001b[0m\u001b[0m_get_lines\u001b[0m\u001b[1;33m(\u001b[0m\u001b[1;33m*\u001b[0m\u001b[0margs\u001b[0m\u001b[1;33m,\u001b[0m \u001b[0mdata\u001b[0m\u001b[1;33m=\u001b[0m\u001b[0mdata\u001b[0m\u001b[1;33m,\u001b[0m \u001b[1;33m**\u001b[0m\u001b[0mkwargs\u001b[0m\u001b[1;33m)\u001b[0m\u001b[1;33m]\u001b[0m\u001b[1;33m\u001b[0m\u001b[1;33m\u001b[0m\u001b[0m\n\u001b[0;32m   1744\u001b[0m         \u001b[1;32mfor\u001b[0m \u001b[0mline\u001b[0m \u001b[1;32min\u001b[0m \u001b[0mlines\u001b[0m\u001b[1;33m:\u001b[0m\u001b[1;33m\u001b[0m\u001b[1;33m\u001b[0m\u001b[0m\n\u001b[1;32m-> 1745\u001b[1;33m             \u001b[0mself\u001b[0m\u001b[1;33m.\u001b[0m\u001b[0madd_line\u001b[0m\u001b[1;33m(\u001b[0m\u001b[0mline\u001b[0m\u001b[1;33m)\u001b[0m\u001b[1;33m\u001b[0m\u001b[1;33m\u001b[0m\u001b[0m\n\u001b[0m\u001b[0;32m   1746\u001b[0m         \u001b[0mself\u001b[0m\u001b[1;33m.\u001b[0m\u001b[0m_request_autoscale_view\u001b[0m\u001b[1;33m(\u001b[0m\u001b[0mscalex\u001b[0m\u001b[1;33m=\u001b[0m\u001b[0mscalex\u001b[0m\u001b[1;33m,\u001b[0m \u001b[0mscaley\u001b[0m\u001b[1;33m=\u001b[0m\u001b[0mscaley\u001b[0m\u001b[1;33m)\u001b[0m\u001b[1;33m\u001b[0m\u001b[1;33m\u001b[0m\u001b[0m\n\u001b[0;32m   1747\u001b[0m         \u001b[1;32mreturn\u001b[0m \u001b[0mlines\u001b[0m\u001b[1;33m\u001b[0m\u001b[1;33m\u001b[0m\u001b[0m\n",
      "\u001b[1;32m~\\anaconda3\\envs\\DeepLearning\\lib\\site-packages\\matplotlib\\axes\\_base.py\u001b[0m in \u001b[0;36madd_line\u001b[1;34m(self, line)\u001b[0m\n\u001b[0;32m   1962\u001b[0m             \u001b[0mline\u001b[0m\u001b[1;33m.\u001b[0m\u001b[0mset_clip_path\u001b[0m\u001b[1;33m(\u001b[0m\u001b[0mself\u001b[0m\u001b[1;33m.\u001b[0m\u001b[0mpatch\u001b[0m\u001b[1;33m)\u001b[0m\u001b[1;33m\u001b[0m\u001b[1;33m\u001b[0m\u001b[0m\n\u001b[0;32m   1963\u001b[0m \u001b[1;33m\u001b[0m\u001b[0m\n\u001b[1;32m-> 1964\u001b[1;33m         \u001b[0mself\u001b[0m\u001b[1;33m.\u001b[0m\u001b[0m_update_line_limits\u001b[0m\u001b[1;33m(\u001b[0m\u001b[0mline\u001b[0m\u001b[1;33m)\u001b[0m\u001b[1;33m\u001b[0m\u001b[1;33m\u001b[0m\u001b[0m\n\u001b[0m\u001b[0;32m   1965\u001b[0m         \u001b[1;32mif\u001b[0m \u001b[1;32mnot\u001b[0m \u001b[0mline\u001b[0m\u001b[1;33m.\u001b[0m\u001b[0mget_label\u001b[0m\u001b[1;33m(\u001b[0m\u001b[1;33m)\u001b[0m\u001b[1;33m:\u001b[0m\u001b[1;33m\u001b[0m\u001b[1;33m\u001b[0m\u001b[0m\n\u001b[0;32m   1966\u001b[0m             \u001b[0mline\u001b[0m\u001b[1;33m.\u001b[0m\u001b[0mset_label\u001b[0m\u001b[1;33m(\u001b[0m\u001b[1;34m'_line%d'\u001b[0m \u001b[1;33m%\u001b[0m \u001b[0mlen\u001b[0m\u001b[1;33m(\u001b[0m\u001b[0mself\u001b[0m\u001b[1;33m.\u001b[0m\u001b[0mlines\u001b[0m\u001b[1;33m)\u001b[0m\u001b[1;33m)\u001b[0m\u001b[1;33m\u001b[0m\u001b[1;33m\u001b[0m\u001b[0m\n",
      "\u001b[1;32m~\\anaconda3\\envs\\DeepLearning\\lib\\site-packages\\matplotlib\\axes\\_base.py\u001b[0m in \u001b[0;36m_update_line_limits\u001b[1;34m(self, line)\u001b[0m\n\u001b[0;32m   1984\u001b[0m         \u001b[0mFigures\u001b[0m \u001b[0mout\u001b[0m \u001b[0mthe\u001b[0m \u001b[0mdata\u001b[0m \u001b[0mlimit\u001b[0m \u001b[0mof\u001b[0m \u001b[0mthe\u001b[0m \u001b[0mgiven\u001b[0m \u001b[0mline\u001b[0m\u001b[1;33m,\u001b[0m \u001b[0mupdating\u001b[0m \u001b[0mself\u001b[0m\u001b[1;33m.\u001b[0m\u001b[0mdataLim\u001b[0m\u001b[1;33m.\u001b[0m\u001b[1;33m\u001b[0m\u001b[1;33m\u001b[0m\u001b[0m\n\u001b[0;32m   1985\u001b[0m         \"\"\"\n\u001b[1;32m-> 1986\u001b[1;33m         \u001b[0mpath\u001b[0m \u001b[1;33m=\u001b[0m \u001b[0mline\u001b[0m\u001b[1;33m.\u001b[0m\u001b[0mget_path\u001b[0m\u001b[1;33m(\u001b[0m\u001b[1;33m)\u001b[0m\u001b[1;33m\u001b[0m\u001b[1;33m\u001b[0m\u001b[0m\n\u001b[0m\u001b[0;32m   1987\u001b[0m         \u001b[1;32mif\u001b[0m \u001b[0mpath\u001b[0m\u001b[1;33m.\u001b[0m\u001b[0mvertices\u001b[0m\u001b[1;33m.\u001b[0m\u001b[0msize\u001b[0m \u001b[1;33m==\u001b[0m \u001b[1;36m0\u001b[0m\u001b[1;33m:\u001b[0m\u001b[1;33m\u001b[0m\u001b[1;33m\u001b[0m\u001b[0m\n\u001b[0;32m   1988\u001b[0m             \u001b[1;32mreturn\u001b[0m\u001b[1;33m\u001b[0m\u001b[1;33m\u001b[0m\u001b[0m\n",
      "\u001b[1;32m~\\anaconda3\\envs\\DeepLearning\\lib\\site-packages\\matplotlib\\lines.py\u001b[0m in \u001b[0;36mget_path\u001b[1;34m(self)\u001b[0m\n\u001b[0;32m   1009\u001b[0m         \"\"\"\n\u001b[0;32m   1010\u001b[0m         \u001b[1;32mif\u001b[0m \u001b[0mself\u001b[0m\u001b[1;33m.\u001b[0m\u001b[0m_invalidy\u001b[0m \u001b[1;32mor\u001b[0m \u001b[0mself\u001b[0m\u001b[1;33m.\u001b[0m\u001b[0m_invalidx\u001b[0m\u001b[1;33m:\u001b[0m\u001b[1;33m\u001b[0m\u001b[1;33m\u001b[0m\u001b[0m\n\u001b[1;32m-> 1011\u001b[1;33m             \u001b[0mself\u001b[0m\u001b[1;33m.\u001b[0m\u001b[0mrecache\u001b[0m\u001b[1;33m(\u001b[0m\u001b[1;33m)\u001b[0m\u001b[1;33m\u001b[0m\u001b[1;33m\u001b[0m\u001b[0m\n\u001b[0m\u001b[0;32m   1012\u001b[0m         \u001b[1;32mreturn\u001b[0m \u001b[0mself\u001b[0m\u001b[1;33m.\u001b[0m\u001b[0m_path\u001b[0m\u001b[1;33m\u001b[0m\u001b[1;33m\u001b[0m\u001b[0m\n\u001b[0;32m   1013\u001b[0m \u001b[1;33m\u001b[0m\u001b[0m\n",
      "\u001b[1;32m~\\anaconda3\\envs\\DeepLearning\\lib\\site-packages\\matplotlib\\lines.py\u001b[0m in \u001b[0;36mrecache\u001b[1;34m(self, always)\u001b[0m\n\u001b[0;32m    656\u001b[0m         \u001b[1;32mif\u001b[0m \u001b[0malways\u001b[0m \u001b[1;32mor\u001b[0m \u001b[0mself\u001b[0m\u001b[1;33m.\u001b[0m\u001b[0m_invalidy\u001b[0m\u001b[1;33m:\u001b[0m\u001b[1;33m\u001b[0m\u001b[1;33m\u001b[0m\u001b[0m\n\u001b[0;32m    657\u001b[0m             \u001b[0myconv\u001b[0m \u001b[1;33m=\u001b[0m \u001b[0mself\u001b[0m\u001b[1;33m.\u001b[0m\u001b[0mconvert_yunits\u001b[0m\u001b[1;33m(\u001b[0m\u001b[0mself\u001b[0m\u001b[1;33m.\u001b[0m\u001b[0m_yorig\u001b[0m\u001b[1;33m)\u001b[0m\u001b[1;33m\u001b[0m\u001b[1;33m\u001b[0m\u001b[0m\n\u001b[1;32m--> 658\u001b[1;33m             \u001b[0my\u001b[0m \u001b[1;33m=\u001b[0m \u001b[0m_to_unmasked_float_array\u001b[0m\u001b[1;33m(\u001b[0m\u001b[0myconv\u001b[0m\u001b[1;33m)\u001b[0m\u001b[1;33m.\u001b[0m\u001b[0mravel\u001b[0m\u001b[1;33m(\u001b[0m\u001b[1;33m)\u001b[0m\u001b[1;33m\u001b[0m\u001b[1;33m\u001b[0m\u001b[0m\n\u001b[0m\u001b[0;32m    659\u001b[0m         \u001b[1;32melse\u001b[0m\u001b[1;33m:\u001b[0m\u001b[1;33m\u001b[0m\u001b[1;33m\u001b[0m\u001b[0m\n\u001b[0;32m    660\u001b[0m             \u001b[0my\u001b[0m \u001b[1;33m=\u001b[0m \u001b[0mself\u001b[0m\u001b[1;33m.\u001b[0m\u001b[0m_y\u001b[0m\u001b[1;33m\u001b[0m\u001b[1;33m\u001b[0m\u001b[0m\n",
      "\u001b[1;32m~\\anaconda3\\envs\\DeepLearning\\lib\\site-packages\\matplotlib\\cbook\\__init__.py\u001b[0m in \u001b[0;36m_to_unmasked_float_array\u001b[1;34m(x)\u001b[0m\n\u001b[0;32m   1287\u001b[0m         \u001b[1;32mreturn\u001b[0m \u001b[0mnp\u001b[0m\u001b[1;33m.\u001b[0m\u001b[0mma\u001b[0m\u001b[1;33m.\u001b[0m\u001b[0masarray\u001b[0m\u001b[1;33m(\u001b[0m\u001b[0mx\u001b[0m\u001b[1;33m,\u001b[0m \u001b[0mfloat\u001b[0m\u001b[1;33m)\u001b[0m\u001b[1;33m.\u001b[0m\u001b[0mfilled\u001b[0m\u001b[1;33m(\u001b[0m\u001b[0mnp\u001b[0m\u001b[1;33m.\u001b[0m\u001b[0mnan\u001b[0m\u001b[1;33m)\u001b[0m\u001b[1;33m\u001b[0m\u001b[1;33m\u001b[0m\u001b[0m\n\u001b[0;32m   1288\u001b[0m     \u001b[1;32melse\u001b[0m\u001b[1;33m:\u001b[0m\u001b[1;33m\u001b[0m\u001b[1;33m\u001b[0m\u001b[0m\n\u001b[1;32m-> 1289\u001b[1;33m         \u001b[1;32mreturn\u001b[0m \u001b[0mnp\u001b[0m\u001b[1;33m.\u001b[0m\u001b[0masarray\u001b[0m\u001b[1;33m(\u001b[0m\u001b[0mx\u001b[0m\u001b[1;33m,\u001b[0m \u001b[0mfloat\u001b[0m\u001b[1;33m)\u001b[0m\u001b[1;33m\u001b[0m\u001b[1;33m\u001b[0m\u001b[0m\n\u001b[0m\u001b[0;32m   1290\u001b[0m \u001b[1;33m\u001b[0m\u001b[0m\n\u001b[0;32m   1291\u001b[0m \u001b[1;33m\u001b[0m\u001b[0m\n",
      "\u001b[1;32m~\\anaconda3\\envs\\DeepLearning\\lib\\site-packages\\numpy\\core\\_asarray.py\u001b[0m in \u001b[0;36masarray\u001b[1;34m(a, dtype, order, like)\u001b[0m\n\u001b[0;32m    100\u001b[0m         \u001b[1;32mreturn\u001b[0m \u001b[0m_asarray_with_like\u001b[0m\u001b[1;33m(\u001b[0m\u001b[0ma\u001b[0m\u001b[1;33m,\u001b[0m \u001b[0mdtype\u001b[0m\u001b[1;33m=\u001b[0m\u001b[0mdtype\u001b[0m\u001b[1;33m,\u001b[0m \u001b[0morder\u001b[0m\u001b[1;33m=\u001b[0m\u001b[0morder\u001b[0m\u001b[1;33m,\u001b[0m \u001b[0mlike\u001b[0m\u001b[1;33m=\u001b[0m\u001b[0mlike\u001b[0m\u001b[1;33m)\u001b[0m\u001b[1;33m\u001b[0m\u001b[1;33m\u001b[0m\u001b[0m\n\u001b[0;32m    101\u001b[0m \u001b[1;33m\u001b[0m\u001b[0m\n\u001b[1;32m--> 102\u001b[1;33m     \u001b[1;32mreturn\u001b[0m \u001b[0marray\u001b[0m\u001b[1;33m(\u001b[0m\u001b[0ma\u001b[0m\u001b[1;33m,\u001b[0m \u001b[0mdtype\u001b[0m\u001b[1;33m,\u001b[0m \u001b[0mcopy\u001b[0m\u001b[1;33m=\u001b[0m\u001b[1;32mFalse\u001b[0m\u001b[1;33m,\u001b[0m \u001b[0morder\u001b[0m\u001b[1;33m=\u001b[0m\u001b[0morder\u001b[0m\u001b[1;33m)\u001b[0m\u001b[1;33m\u001b[0m\u001b[1;33m\u001b[0m\u001b[0m\n\u001b[0m\u001b[0;32m    103\u001b[0m \u001b[1;33m\u001b[0m\u001b[0m\n\u001b[0;32m    104\u001b[0m \u001b[1;33m\u001b[0m\u001b[0m\n",
      "\u001b[1;31mTypeError\u001b[0m: float() argument must be a string or a number, not 'Matern'"
     ]
    },
    {
     "data": {
      "image/png": "[encoded data removed]",
      "text/plain": [
       "<Figure size 432x288 with 1 Axes>"
      ]
     },
     "metadata": {
      "needs_background": "light"
     },
     "output_type": "display_data"
    }
   ],
   "source": [
    "plt.plot(Matern(length_scale=len_scale, length_scale_bounds=hp_bounds, nu=2.5))"
   ]
  },
  {
   "cell_type": "code",
   "execution_count": 14,
   "id": "6452129a",
   "metadata": {},
   "outputs": [],
   "source": [
    "gpr_mean_calib, gpr_std_calib, gpr_mean_true_test, gpr_std_true_test = gpr_model(len_scale, hp_bounds, X_tr_sc, y_tr_sc, X_calib, X_true_test)"
   ]
  },
  {
   "cell_type": "code",
   "execution_count": 15,
   "id": "1c22baeb",
   "metadata": {},
   "outputs": [],
   "source": [
    "def ngb_model(X_tr, y_tr, X_cal, X_test):\n",
    "    ngb = NGBRegressor()\n",
    "    ngb.fit(X_tr, y_tr)\n",
    "    ngb_preds_calib = ngb.pred_dist(X_cal)\n",
    "    ngb_preds_test = ngb.pred_dist(X_test)\n",
    "    \n",
    "    mean_calib = ngb_preds_calib.params['loc']\n",
    "    std_calib = ngb_preds_calib.params['scale']\n",
    "    mean_test = ngb_preds_test.params['loc']\n",
    "    std_test = ngb_preds_test.params['scale']\n",
    "    \n",
    "    return mean_calib, std_calib, mean_test, std_test"
   ]
  },
  {
   "cell_type": "code",
   "execution_count": 16,
   "id": "fff0af4d",
   "metadata": {},
   "outputs": [
    {
     "name": "stderr",
     "output_type": "stream",
     "text": [
      "C:\\Users\\hartm\\anaconda3\\envs\\DeepLearning\\lib\\site-packages\\sklearn\\utils\\validation.py:63: DataConversionWarning: A column-vector y was passed when a 1d array was expected. Please change the shape of y to (n_samples, ), for example using ravel().\n",
      "  return f(*args, **kwargs)\n"
     ]
    },
    {
     "name": "stdout",
     "output_type": "stream",
     "text": [
      "[iter 0] loss=0.2639 val_loss=0.0000 scale=1.0000 norm=0.4704\n",
      "[iter 100] loss=-0.4870 val_loss=0.0000 scale=2.0000 norm=0.8366\n",
      "[iter 200] loss=-1.0777 val_loss=0.0000 scale=2.0000 norm=0.8157\n",
      "[iter 300] loss=-1.4716 val_loss=0.0000 scale=2.0000 norm=0.7935\n",
      "[iter 400] loss=-1.7144 val_loss=0.0000 scale=2.0000 norm=0.7963\n"
     ]
    }
   ],
   "source": [
    "ngb_mean_calib, ngb_std_calib, ngb_mean_true_test, ngb_std_true_test = ngb_model(X_tr_sc, y_tr_sc, X_calib, X_true_test)"
   ]
  },
  {
   "cell_type": "markdown",
   "id": "87ca8b50",
   "metadata": {},
   "source": [
    "### CRUDE Calibration"
   ]
  },
  {
   "cell_type": "code",
   "execution_count": 17,
   "id": "1cab8d00",
   "metadata": {},
   "outputs": [],
   "source": [
    "def find_z_scores(y_calib, mean_calib, std_calib):\n",
    "    z_calib = []\n",
    "\n",
    "    for i in range(len(mean_calib)):\n",
    "        dif = y_calib[i] - mean_calib[i] \n",
    "        z_st = dif/std_calib[i]\n",
    "        bisect.insort(z_calib, z_st) #sorted list of z_star values\n",
    "\n",
    "    # This is noted as Zc in the article\n",
    "    z_c = np.concatenate(z_calib, axis=0 )  \n",
    "    \n",
    "    return z_c"
   ]
  },
  {
   "cell_type": "code",
   "execution_count": 18,
   "id": "752e2367",
   "metadata": {},
   "outputs": [],
   "source": [
    "# function to find quantiles, p is the target quantile level\n",
    "\n",
    "def CRUDE(z_c, mean_calib):\n",
    "    p_values = np.arange(0.05,1,0.05)\n",
    "    \n",
    "    # empty 2d array for z_p scores for all p values\n",
    "    z_p = np.zeros((len(p_values), 2))\n",
    "    \n",
    "    for p in range(len(p_values)):\n",
    "        \n",
    "        #define higher and lower boundries\n",
    "        p_up = round(p_values[p]+(1-p_values[p])/2, 3)\n",
    "        p_low = round(1-p_up, 3)\n",
    "\n",
    "        #determine which Zc values to include in both boundries\n",
    "        z_p_up = z_c[int(p_up * len(mean_calib))]\n",
    "        z_p_low = z_c[int(p_low * len(mean_calib))]\n",
    "        \n",
    "        z_p[p,0] = z_p_low\n",
    "        z_p[p,1] = z_p_up\n",
    "        \n",
    "    return z_p"
   ]
  },
  {
   "cell_type": "code",
   "execution_count": 19,
   "id": "a67cd77c",
   "metadata": {},
   "outputs": [],
   "source": [
    "def find_quantiles(z_p, mean_true_test, std_true_test):\n",
    " \n",
    "    # empty 2*z_p array for lower and higher boundry values\n",
    "    q = np.zeros((len(mean_true_test), 2*len(z_p)))\n",
    "    index = 0\n",
    "    \n",
    "    for j in range(len(z_p)):  \n",
    "        for i in range(len(mean_true_test)):\n",
    "            #Define the lower and higher boundry for each data point\n",
    "            q_low = mean_true_test[i] + std_true_test[i] * z_p[j,0]\n",
    "            q_up = mean_true_test[i] + std_true_test[i] * z_p[j,1]\n",
    "            \n",
    "            q[i,index] = q_low\n",
    "            q[i,index + 1] = q_up\n",
    "        \n",
    "        index = index + 2       \n",
    "    return q"
   ]
  },
  {
   "cell_type": "code",
   "execution_count": 20,
   "id": "50cb782d",
   "metadata": {},
   "outputs": [],
   "source": [
    "def crude_coverage(q, y_true_test):\n",
    "\n",
    "    p_values = np.arange(0.05,1,0.05)\n",
    "    cov = []\n",
    "    index = 0\n",
    "\n",
    "    for p in p_values:\n",
    "        count = 0\n",
    "        for i in range(len(q)):\n",
    "            if (y_true_test[i] > q[i,index]) and (y_true_test[i] < q[i,index+1]):\n",
    "                count = count + 1 \n",
    "        index = index + 2\n",
    "        cov.append(count/len(q))\n",
    "        \n",
    "    return cov"
   ]
  },
  {
   "cell_type": "code",
   "execution_count": 21,
   "id": "cf3318b4",
   "metadata": {},
   "outputs": [],
   "source": [
    "z_c_gpr = find_z_scores(y_calib, gpr_mean_calib, gpr_std_calib)\n",
    "z_p_gpr = CRUDE(z_c_gpr, gpr_mean_calib)\n",
    "q_gpr = find_quantiles(z_p_gpr, gpr_mean_true_test, gpr_std_true_test)\n",
    "cov_crude_gpr = crude_coverage(q_gpr, y_true_test)"
   ]
  },
  {
   "cell_type": "code",
   "execution_count": 22,
   "id": "f25d5af2",
   "metadata": {},
   "outputs": [],
   "source": [
    "z_c_ngb = find_z_scores(y_calib, ngb_mean_calib, ngb_std_calib)\n",
    "z_p_ngb = CRUDE(z_c_ngb, ngb_mean_calib)\n",
    "q_ngb = find_quantiles(z_p_ngb, ngb_mean_true_test, ngb_std_true_test)\n",
    "cov_crude_ngb = crude_coverage(q_ngb, y_true_test)"
   ]
  },
  {
   "cell_type": "markdown",
   "id": "5f96c152",
   "metadata": {},
   "source": [
    "### Kuleshov calibration"
   ]
  },
  {
   "cell_type": "code",
   "execution_count": 23,
   "id": "960dfc53",
   "metadata": {},
   "outputs": [],
   "source": [
    "def find_conf_interval(mean_calib, y_calib, std_calib):\n",
    "\n",
    "    cdfs = []\n",
    "\n",
    "    for i in range(len(mean_calib)):\n",
    "        dif = y_calib[i] - mean_calib[i] \n",
    "        z_st = dif/std_calib[i]\n",
    "        cdf = stats.norm.cdf(z_st)\n",
    "        cdfs.append(cdf)\n",
    "\n",
    "#         if cdf < 0.5:\n",
    "#             centered.append(1 - 2*cdf)\n",
    "#         else:\n",
    "#             centered.append(cdf - (1-cdf))\n",
    "\n",
    "    # This is the Ft from the article\n",
    "    CI_cent = np.concatenate(cdfs, axis=0 )   \n",
    "    \n",
    "    return CI_cent"
   ]
  },
  {
   "cell_type": "code",
   "execution_count": 24,
   "id": "302b9a24",
   "metadata": {},
   "outputs": [],
   "source": [
    "def find_coverage(CI_cent):\n",
    "    \n",
    "    cover_cent = []\n",
    "\n",
    "    for i in range(len(CI_cent)):\n",
    "        count = 0\n",
    "        for j in range(len(CI_cent)):\n",
    "            if CI_cent[j] < CI_cent[i]:\n",
    "                count = count +1\n",
    "        cov_cent = count/len(CI_cent)\n",
    "        cover_cent.append(cov_cent)\n",
    "    \n",
    "    return cover_cent"
   ]
  },
  {
   "cell_type": "code",
   "execution_count": 25,
   "id": "e4d22aea",
   "metadata": {},
   "outputs": [
    {
     "name": "stdout",
     "output_type": "stream",
     "text": [
      "0.525 0.475\n",
      "0.55 0.45\n",
      "0.575 0.425\n",
      "0.6 0.4\n",
      "0.625 0.375\n",
      "0.65 0.35\n",
      "0.675 0.325\n",
      "0.7 0.3\n",
      "0.725 0.275\n",
      "0.75 0.25\n",
      "0.775 0.225\n",
      "0.8 0.2\n",
      "0.825 0.175\n",
      "0.85 0.15\n",
      "0.875 0.125\n",
      "0.9 0.1\n",
      "0.925 0.075\n",
      "0.95 0.05\n",
      "0.975 0.025\n"
     ]
    }
   ],
   "source": [
    "p_values = np.arange(0.05,1,0.05)\n",
    "\n",
    "for p in range(len(p_values)):\n",
    "\n",
    "    #define higher and lower boundries\n",
    "    p_up = round(p_values[p]+(1-p_values[p])/2, 3)\n",
    "    p_low = round(1-p_up, 3)\n",
    "    \n",
    "    print(p_up, p_low)"
   ]
  },
  {
   "cell_type": "code",
   "execution_count": 26,
   "id": "5d052e09",
   "metadata": {},
   "outputs": [
    {
     "name": "stdout",
     "output_type": "stream",
     "text": [
      "0.5023953356707617\n"
     ]
    }
   ],
   "source": [
    "q_dist = np.random.rand()\n",
    "print(q_dist)"
   ]
  },
  {
   "cell_type": "code",
   "execution_count": 38,
   "id": "caaae8bb",
   "metadata": {},
   "outputs": [
    {
     "name": "stdout",
     "output_type": "stream",
     "text": [
      "0.002 -10 9.323942102590161 -0.3380289487049195\n",
      "0.6322629868775436 0.3676043633958948\n",
      "0.632733759620484 0.3680752789951832\n"
     ]
    }
   ],
   "source": [
    "tol = 0.001\n",
    "delta_mid = 2*tol\n",
    "q_lower = -10\n",
    "q_upper = 10 * max(ngb_mean_true_test)\n",
    "q_mid = 0.5 * (q_lower + q_upper)\n",
    "\n",
    "print(delta_mid, q_lower, q_upper, q_mid)\n",
    "\n",
    "e_low = stats.norm.cdf(ngb_mean_true_test[0]-q_mid)\n",
    "e_upp = stats.norm.cdf(ngb_mean_true_test[0]+q_mid)\n",
    "\n",
    "e_low1 = stats.norm.cdf(ngb_mean_true_test[1]-q_mid)\n",
    "e_upp1 = stats.norm.cdf(ngb_mean_true_test[1]+q_mid)\n",
    "\n",
    "print(e_low, e_upp)\n",
    "print(e_low1, e_upp1)"
   ]
  },
  {
   "cell_type": "code",
   "execution_count": 118,
   "id": "8e19d0cf",
   "metadata": {},
   "outputs": [],
   "source": [
    "def train_ir_calc_coverage(CI_cent, cover_cent, mean_true_test, y_true_test, std_true_test):\n",
    "\n",
    "    ir = IsotonicRegression()\n",
    "    # empirical (H) first and predicted (P) next\n",
    "    h = ir.fit_transform(CI_cent, cover_cent)\n",
    "\n",
    "    coverage_cal_cent = []\n",
    "    coverage_uncal_cent = []\n",
    "\n",
    "    p_values = np.arange(0.05,1,0.05)\n",
    "    cdf_cals = np.zeros((len(mean_true_test), 1))\n",
    "    cdf_uncals = np.zeros((len(mean_true_test), 1))\n",
    "    limits = np.zeros((len(mean_true_test), len(p_values)))\n",
    "    \n",
    "    for p in range(len(p_values)):\n",
    "        count_cal = 0\n",
    "        count_uncal = 0\n",
    "        \n",
    "        #get upper and lower p values\n",
    "        p_up = round(p_values[p]+(1-p_values[p])/2, 3)\n",
    "        p_low = round(1-p_up, 3)\n",
    "        \n",
    "#         tol = 0.001\n",
    "#         delta_mid = 2*tol\n",
    "#         q_lower = -10\n",
    "#         q_upper = 10 * max(mean_true_test)\n",
    "#         q_mid = 0.5 * (q_lower + q_upper)\n",
    "\n",
    "        for j in range(len(mean_true_test)):\n",
    "            dif = y_true_test[j] - mean_true_test[j]\n",
    "            z_st = dif/std_true_test[j]   \n",
    "            cdf_uncal = stats.norm.cdf(z_st)\n",
    "            \n",
    "            tol = 0.001\n",
    "            delta_mid = 2*tol\n",
    "            q_lower = 0\n",
    "            q_upper = 10 * max(mean_true_test)\n",
    "            q_mid = 0.5 * (q_lower + q_upper)\n",
    "            \n",
    "            #recalibrate the cdfs using the trained isotonic regression model\n",
    "            cdf_cal = ir.predict(cdf_uncal)\n",
    "            \n",
    "            while abs(delta_mid) > tol:\n",
    "                q_mid = 0.5*(q_upper + q_lower)\n",
    "                \n",
    "                e_low = stats.norm.cdf(mean_true_test[j]-q_mid)\n",
    "                e_upp = stats.norm.cdf(mean_true_test[j]+q_mid)\n",
    "\n",
    "                e_low = e_low.reshape((1, 1))\n",
    "                e_upp = e_upp.reshape((1, 1))\n",
    "\n",
    "                s_low = ir.predict(e_low)\n",
    "                s_upp = ir.predict(e_upp)\n",
    "                \n",
    "                true_ci = s_upp - s_low\n",
    "                delta_mid = true_ci - p_values[p]\n",
    "\n",
    "                if delta_mid > 0:\n",
    "                    q_upper = q_mid\n",
    "                else:\n",
    "                    q_lower = q_mid\n",
    "                    \n",
    "            limits[j, p] = q_mid\n",
    "                    \n",
    "            \n",
    "#             if j <20:\n",
    "#                 print(q_mid)\n",
    "#             limits[j, index] = q_mid\n",
    "            \n",
    "            #Get cdfs, both calculated and uncalculated\n",
    "            cdf_cals[j,0] = cdf_cal\n",
    "            cdf_uncals[j,0] = cdf_uncal\n",
    "\n",
    "            #calculate coverage\n",
    "            if cdf_cal <= p_values[p]:\n",
    "                count_cal = count_cal+1\n",
    "\n",
    "            if cdf_uncal <= p_values[p]:\n",
    "                count_uncal = count_uncal+1\n",
    "\n",
    "        print('Computed p limit')\n",
    "        coverage_cal_cent.append(count_cal/len(mean_true_test))\n",
    "        coverage_uncal_cent.append(count_uncal/len(mean_true_test))\n",
    "        \n",
    "    return coverage_cal_cent, coverage_uncal_cent, cdf_cals, cdf_uncals, limits"
   ]
  },
  {
   "cell_type": "code",
   "execution_count": 28,
   "id": "d963b34c",
   "metadata": {},
   "outputs": [],
   "source": [
    "conf_int_ngb = find_conf_interval(ngb_mean_calib, y_calib, ngb_std_calib)\n",
    "coverage_ngb = find_coverage(conf_int_ngb)"
   ]
  },
  {
   "cell_type": "code",
   "execution_count": 120,
   "id": "f12ffb30",
   "metadata": {},
   "outputs": [
    {
     "name": "stdout",
     "output_type": "stream",
     "text": [
      "Computed p limit\n",
      "Computed p limit\n",
      "Computed p limit\n",
      "Computed p limit\n",
      "Computed p limit\n",
      "Computed p limit\n",
      "Computed p limit\n",
      "Computed p limit\n",
      "Computed p limit\n",
      "Computed p limit\n",
      "Computed p limit\n",
      "Computed p limit\n",
      "Computed p limit\n",
      "Computed p limit\n",
      "Computed p limit\n",
      "Computed p limit\n",
      "Computed p limit\n",
      "Computed p limit\n",
      "Computed p limit\n"
     ]
    }
   ],
   "source": [
    "cov_kuleshov_calc_ngb, cov_uncal_ngb, cdf_cals_ngb, cdf_uncals_ngb, limits_ngb = train_ir_calc_coverage(conf_int_ngb, coverage_ngb, \n",
    "                                                                            ngb_mean_true_test, y_true_test, ngb_std_true_test)"
   ]
  },
  {
   "cell_type": "code",
   "execution_count": 121,
   "id": "0dd0265e",
   "metadata": {},
   "outputs": [
    {
     "name": "stdout",
     "output_type": "stream",
     "text": [
      "[[0.09788318 0.15479201 0.26860966 ... 3.18689427 4.00638137 5.49966897]\n",
      " [0.09902136 0.15251565 0.26747148 ... 3.18689427 4.00638137 5.49966897]\n",
      " [0.09560683 0.15479201 0.27088601 ... 3.18689427 4.00638137 5.49966897]\n",
      " ...\n",
      " [0.14113389 0.3004786  0.40163404 ... 3.29615922 4.15206797 5.82746381]\n",
      " [0.09560683 0.15479201 0.27088601 ... 3.18689427 4.00638137 5.49966897]\n",
      " [0.04780341 0.16389742 0.3004786  ... 3.16868345 4.00638137 5.68177722]]\n"
     ]
    }
   ],
   "source": [
    "print(limits_ngb)"
   ]
  },
  {
   "cell_type": "code",
   "execution_count": 122,
   "id": "674a94cd",
   "metadata": {},
   "outputs": [
    {
     "name": "stdout",
     "output_type": "stream",
     "text": [
      "Computed p limit\n",
      "Computed p limit\n",
      "Computed p limit\n",
      "Computed p limit\n",
      "Computed p limit\n",
      "Computed p limit\n",
      "Computed p limit\n",
      "Computed p limit\n",
      "Computed p limit\n",
      "Computed p limit\n",
      "Computed p limit\n",
      "Computed p limit\n",
      "Computed p limit\n",
      "Computed p limit\n",
      "Computed p limit\n",
      "Computed p limit\n",
      "Computed p limit\n",
      "Computed p limit\n",
      "Computed p limit\n"
     ]
    }
   ],
   "source": [
    "conf_int_gpr = find_conf_interval(gpr_mean_calib, y_calib, gpr_std_calib)\n",
    "coverage_gpr = find_coverage(conf_int_gpr)\n",
    "cov_kuleshov_calc_gpr, cov_uncal_gpr, cdf_cals_gpr, cdf_uncals_gpr, limits_gpr = train_ir_calc_coverage(conf_int_gpr, coverage_gpr, \n",
    "                                                                            gpr_mean_true_test, y_true_test, gpr_std_true_test)"
   ]
  },
  {
   "cell_type": "code",
   "execution_count": 127,
   "id": "132d1b88",
   "metadata": {},
   "outputs": [],
   "source": [
    "ans = np.zeros((len(p_values), 1))\n",
    "\n",
    "for p in range(len(p_values)):\n",
    "    count = 0\n",
    "    for i in range(len(limits_ngb)):\n",
    "        if y_true_test[i] < ngb_mean_true_test[i] + limits_ngb[i,p] and y_true_test[i] > ngb_mean_true_test[i] - limits_ngb[i,p]:\n",
    "            count = count+1\n",
    "\n",
    "    ans[p,0] = count/len(limits_ngb)"
   ]
  },
  {
   "cell_type": "code",
   "execution_count": 128,
   "id": "5a5454e0",
   "metadata": {},
   "outputs": [
    {
     "name": "stdout",
     "output_type": "stream",
     "text": [
      "[[0.72387728]\n",
      " [0.85682526]\n",
      " [0.92752334]\n",
      " [0.957759  ]\n",
      " [0.98799466]\n",
      " [0.99688751]\n",
      " [1.        ]\n",
      " [1.        ]\n",
      " [1.        ]\n",
      " [1.        ]\n",
      " [1.        ]\n",
      " [1.        ]\n",
      " [1.        ]\n",
      " [1.        ]\n",
      " [1.        ]\n",
      " [1.        ]\n",
      " [1.        ]\n",
      " [1.        ]\n",
      " [1.        ]]\n"
     ]
    }
   ],
   "source": [
    "print(ans)"
   ]
  },
  {
   "cell_type": "code",
   "execution_count": null,
   "id": "08689fc2",
   "metadata": {},
   "outputs": [],
   "source": [
    "X_len = 20\n",
    "x = np.arange(X_len) \n",
    "fig, (ax1, ax2, ax3) = plt.subplots(1, 3, figsize=(17,5))\n",
    "\n",
    "ax1.plot(x[:X_len], ngb_mean_true_test[0:X_len], label='predicted')\n",
    "#ax1.plot(x[:X_len])\n",
    "ax1.fill_between(x[:X_len], ppf_ngb[0:X_len,0], ppf_ngb[0:X_len,37],\n",
    "                 color='gray', alpha=0.2)\n",
    "ax1.fill_between(x[:X_len], ppf_ngb[0:X_len,10], ppf_ngb[0:X_len,26],\n",
    "                 color='salmon', alpha=0.2)\n",
    "\n",
    "ax2.plot(x[:X_len], ngb_mean_true_test[0:X_len], label='predicted')\n",
    "ax2.fill_between(x[:X_len], ppf_ngb[0:X_len,17], ppf_ngb[0:X_len,19],\n",
    "                 color='gray', alpha=0.2)\n",
    "\n",
    "ax3.plot(x[:X_len], ngb_mean_true_test[0:20], label='predicted')\n",
    "ax3.fill_between(x[:X_len], ngb_mean_true_test[0:20] - cdf_cals_ngb[0:20,0]/2, ngb_mean_true_test[0:20] + cdf_cals_ngb[0:20,0]/2,\n",
    "                 color='gray', label='kuleshov calibrated intervals', alpha=0.2)\n",
    "plt.show()"
   ]
  },
  {
   "cell_type": "code",
   "execution_count": null,
   "id": "abd1a5ef",
   "metadata": {},
   "outputs": [],
   "source": [
    "\n",
    "# fig, (ax1, ax2, ax3) = plt.subplots(1, 3, figsize=(15,5))\n",
    "\n",
    "# ax1.plot(x[:X_len], gpr_mean_true_test[0:X_len], label='predicted')\n",
    "# ax1.fill_between(x[:X_len], ppf_gpr[0:X_len,20], ppf_gpr[0:X_len,21],\n",
    "#                  color='gray', alpha=0.2)\n",
    "# ax1.fill_between(x[:X_len], ppf_gpr[0:X_len,10], ppf_gpr[0:X_len,11],\n",
    "#                  color='salmon', alpha=0.2)\n",
    "\n",
    "# ax2.plot(x[:X_len], gpr_mean_true_test[0:X_len], label='predicted')\n",
    "# ax2.fill_between(x[:X_len], ppf_gpr[0:X_len,2], ppf_gpr[0:X_len,3],\n",
    "#                  color='gray', alpha=0.2)\n",
    "\n",
    "# ax3.plot(x[:X_len], gpr_mean_true_test[0:20], label='predicted')\n",
    "# ax3.fill_between(x[:X_len], gpr_mean_true_test[0:20] - cdf_cals_gpr[0:20,0]/2, gpr_mean_true_test[0:20] + cdf_cals_gpr[0:20,0]/2,\n",
    "#                  color='gray', label='kuleshov calibrated intervals', alpha=0.2)\n",
    "# plt.show()\n"
   ]
  },
  {
   "cell_type": "code",
   "execution_count": null,
   "id": "4be464a3",
   "metadata": {},
   "outputs": [],
   "source": []
  },
  {
   "cell_type": "markdown",
   "id": "9ffc3894",
   "metadata": {},
   "source": [
    "### Testing some combination"
   ]
  },
  {
   "cell_type": "code",
   "execution_count": 87,
   "id": "fe4fec14",
   "metadata": {},
   "outputs": [],
   "source": [
    "def ranges(q, mean_true_test, ppf):\n",
    "    crude_range = np.zeros((len(q), 2))\n",
    "    kuleshov_range = np.zeros((len(q), 2))\n",
    "\n",
    "    for i in range(len(q)):\n",
    "        crude_range[i,0] = q[i,34]\n",
    "        kuleshov_range[i,0] = mean_true_test[i] - ppf[i,18]\n",
    "\n",
    "        crude_range[i,1] = q[i,35]\n",
    "        kuleshov_range[i,1] = mean_true_test[i] + ppf[i,18]\n",
    "    \n",
    "    return crude_range, kuleshov_range"
   ]
  },
  {
   "cell_type": "code",
   "execution_count": 88,
   "id": "f886678f",
   "metadata": {},
   "outputs": [],
   "source": [
    "ngb_crude_range, ngb_kuleshov_range = ranges(q_ngb, ngb_mean_true_test, limits_ngb)\n",
    "gpr_crude_range, gpr_kuleshov_range = ranges(q_gpr, gpr_mean_true_test, ppf_gpr)"
   ]
  },
  {
   "cell_type": "code",
   "execution_count": 89,
   "id": "1c5b61fa",
   "metadata": {},
   "outputs": [],
   "source": [
    "def comb_intervals1(crude_range, kuleshov_range):\n",
    "    comb_intervals = np.zeros((len(crude_range), 2))\n",
    "\n",
    "    for i in range(len(crude_range)):\n",
    "        crude_dif = (crude_range[i,1] - crude_range[i,0])\n",
    "        kuleshov_dif = (kuleshov_range[i,1]- kuleshov_range[i,0])\n",
    "        \n",
    "        if crude_dif < kuleshov_dif or np.isnan(kuleshov_dif):\n",
    "            comb_intervals[i,0] = crude_range[i,0]\n",
    "            comb_intervals[i,1] = crude_range[i,1]\n",
    "        else:\n",
    "            comb_intervals[i,0] = kuleshov_range[i,0]\n",
    "            comb_intervals[i,1] = kuleshov_range[i,1]\n",
    "        \n",
    "    return comb_intervals"
   ]
  },
  {
   "cell_type": "code",
   "execution_count": 90,
   "id": "fd66d57c",
   "metadata": {},
   "outputs": [],
   "source": [
    "def comb_intervals2(crude_range, kuleshov_range):\n",
    "    comb_intervals = np.zeros((len(crude_range), 2))\n",
    "\n",
    "    for i in range(len(crude_range)):\n",
    "        comb_intervals[i,1] = min(crude_range[i,1], kuleshov_range[i,1])\n",
    "        comb_intervals[i,0] = max(crude_range[i,0], kuleshov_range[i,0])\n",
    "        \n",
    "    return comb_intervals"
   ]
  },
  {
   "cell_type": "code",
   "execution_count": 91,
   "id": "8c48f490",
   "metadata": {},
   "outputs": [],
   "source": [
    "ngb_comb_intervals = comb_intervals1(ngb_crude_range, ngb_kuleshov_range)\n",
    "gpr_comb_intervals = comb_intervals1(gpr_crude_range, gpr_kuleshov_range)\n",
    "\n",
    "ngb_comb_intervals2 = comb_intervals2(ngb_crude_range, ngb_kuleshov_range)\n",
    "gpr_comb_intervals2 = comb_intervals2(gpr_crude_range, gpr_kuleshov_range)"
   ]
  },
  {
   "cell_type": "code",
   "execution_count": null,
   "id": "517bc86f",
   "metadata": {},
   "outputs": [],
   "source": [
    "X_len = 50\n",
    "x = np.arange(X_len)  \n",
    "\n",
    "fig, ax = plt.subplots(1,1, figsize=(15, 6))\n",
    "plt.plot(x[:X_len], y_true_test[0:50], label='real')\n",
    "plt.plot(x[:X_len], ngb_mean_true_test[0:50], '--', label='predicted')\n",
    "plt.fill_between(x[:X_len], ngb_mean_true_test[0:50] - cdf_uncals_ngb[0:50,0]/2, ngb_mean_true_test[0:50] + cdf_uncals_ngb[0:50,0]/2,\n",
    "                 color='gray', label='uncalibrated intervals', alpha=0.2)\n",
    "plt.ylim(-0.55, 1.5)\n",
    "\n",
    "plt.legend()\n",
    "plt.show()\n",
    "\n",
    "fig, ax = plt.subplots(1,1, figsize=(15, 6))\n",
    "plt.plot(x[:X_len], y_true_test[0:50], label='real')\n",
    "plt.plot(x[:X_len], ngb_mean_true_test[0:50], '--', label='predicted')\n",
    "plt.fill_between(x[:X_len], ngb_mean_true_test[0:50] - cdf_cals_ngb[0:50,0]/2, ngb_mean_true_test[0:50] + cdf_cals_ngb[0:50,0]/2,\n",
    "                 color='gray', label='kuleshov calibrated intervals', alpha=0.2)\n",
    "plt.ylim(-0.55, 1.5)\n",
    "\n",
    "plt.legend()\n",
    "plt.show()\n",
    "\n",
    "fig, ax = plt.subplots(1,1, figsize=(15, 6))\n",
    "plt.plot(x[:X_len], y_true_test[0:50], label='real')\n",
    "plt.plot(x[:X_len], ngb_mean_true_test[0:X_len], '--', label='predicted')\n",
    "plt.fill_between(x[:X_len], ppf_ngb[0:X_len,0], ppf_ngb[0:X_len,37],\n",
    "                 color='gray', alpha=0.2, label='kuleshov ppf 0.95')\n",
    "plt.fill_between(x[:X_len], ppf_ngb[0:X_len,10], ppf_ngb[0:X_len,27],\n",
    "                 color='salmon', alpha=0.2)\n",
    "plt.ylim(-0.55, 1.5)\n",
    "\n",
    "plt.legend()\n",
    "plt.show()\n",
    "\n",
    "fig, ax = plt.subplots(1,1, figsize=(15, 6))\n",
    "plt.plot(x[:X_len], y_true_test[0:50], label='real')\n",
    "plt.plot(x[:X_len], gpr_mean_true_test[0:50], '--', label='predicted')\n",
    "plt.fill_between(x[:X_len], q_gpr[0:50,36], q_gpr[0:50,37],\n",
    "                 color='gray', label='CRUDE calibrated intervals', alpha=0.2)\n",
    "plt.ylim(-0.55, 1.5)\n",
    "\n",
    "plt.legend()\n",
    "plt.show()\n",
    "\n",
    "fig, ax = plt.subplots(1,1, figsize=(15, 6))\n",
    "plt.plot(x[:X_len], y_true_test[0:50], label='real')\n",
    "plt.plot(x[:X_len], ngb_mean_true_test[0:50], '--', label='predicted')\n",
    "plt.fill_between(x[:X_len], ngb_comb_intervals[0:50,0], ngb_comb_intervals[0:50,1],\n",
    "                 color='gray', label='combined calibrated intervals', alpha=0.2)\n",
    "plt.ylim(-0.55, 1.5)\n",
    "\n",
    "plt.legend()\n",
    "plt.show()\n",
    "\n",
    "fig, ax = plt.subplots(1,1, figsize=(15, 6))\n",
    "plt.plot(x[:X_len], y_true_test[0:50], label='real')\n",
    "plt.plot(x[:X_len], ngb_mean_true_test[0:50], '--', label='predicted')\n",
    "plt.fill_between(x[:X_len], ngb_comb_intervals2[0:50,0], ngb_comb_intervals2[0:50,1],\n",
    "                 color='gray', label='combined calibrated intervals', alpha=0.2)\n",
    "plt.ylim(-0.55, 1.5)\n",
    "\n",
    "plt.legend()\n",
    "plt.show()"
   ]
  },
  {
   "cell_type": "markdown",
   "id": "7be84006",
   "metadata": {},
   "source": [
    "### Calculating sharpness"
   ]
  },
  {
   "cell_type": "code",
   "execution_count": null,
   "id": "ea0eda1d",
   "metadata": {},
   "outputs": [],
   "source": [
    "def get_st_dev(interval):\n",
    "    std_dev = np.zeros((len(interval), 1))\n",
    "    for i in range(len(interval)):\n",
    "        std_dev[i] = interval[i,1] - interval[i,0]\n",
    "    return std_dev"
   ]
  },
  {
   "cell_type": "code",
   "execution_count": null,
   "id": "20c6493d",
   "metadata": {},
   "outputs": [],
   "source": [
    "ngb_std_crude = get_st_dev(ngb_crude_range)\n",
    "gpr_std_crude = get_st_dev(gpr_crude_range)\n",
    "\n",
    "ngb_std_comb = get_st_dev(ngb_comb_intervals)\n",
    "gpr_std_comb = get_st_dev(gpr_comb_intervals)\n",
    "\n",
    "ngb_std_comb2 = get_st_dev(ngb_comb_intervals2)\n",
    "gpr_std_comb2 = get_st_dev(gpr_comb_intervals2)"
   ]
  },
  {
   "cell_type": "code",
   "execution_count": null,
   "id": "1a20784d",
   "metadata": {},
   "outputs": [],
   "source": [
    "def calc_sharpness(cdf_cals):\n",
    "\n",
    "    var_ngb = 0\n",
    "    count_nan = 0\n",
    "    for i in range(len(cdf_cals)):\n",
    "        if math.isnan(cdf_cals[i]):\n",
    "            count_nan = count_nan + 1\n",
    "        else:\n",
    "            var_ngb = var_ngb + pow(cdf_cals[i], 2)\n",
    "\n",
    "\n",
    "    sharpness = var_ngb/(len(cdf_cals-count_nan))\n",
    "    return sharpness"
   ]
  },
  {
   "cell_type": "code",
   "execution_count": null,
   "id": "5189c5c9",
   "metadata": {},
   "outputs": [],
   "source": [
    "st_dev = [cdf_cals_ngb, cdf_cals_gpr, ngb_std_crude, gpr_std_crude, \n",
    "          ngb_std_comb, gpr_std_comb, ngb_std_comb2, gpr_std_comb2]\n",
    "names = ['Kuleshov NgBoost', 'Kuleshov GPR', 'CRUDE NgBoost', 'CRUDE GPR',\n",
    "        'Comb 1 NgBoost', 'Comb 1 GPR', 'Comb 2 NgBoost', 'Comb 2 GPR']\n",
    "\n",
    "sharp_ngb = np.zeros((int(len(names)/2), 1))\n",
    "sharp_gpr = np.zeros((int(len(names)/2), 1))\n",
    "for dev, i in zip(st_dev, range(len(names))):\n",
    "    if i%2 < 1:\n",
    "        sharpness = calc_sharpness(dev)\n",
    "        sharp_ngb[int(i/2)] = sharpness\n",
    "    else:\n",
    "        sharpness = calc_sharpness(dev)\n",
    "        sharp_gpr[int(i/2)] = sharpness\n",
    "        \n",
    "    print(names[i], sharpness)\n"
   ]
  },
  {
   "cell_type": "code",
   "execution_count": null,
   "id": "5bfa8521",
   "metadata": {},
   "outputs": [],
   "source": [
    "sharp_ngb = np.concatenate(sharp_ngb, axis=0 )\n",
    "sharp_gpr = np.concatenate(sharp_gpr, axis=0 )"
   ]
  },
  {
   "cell_type": "code",
   "execution_count": null,
   "id": "3633ac2f",
   "metadata": {},
   "outputs": [],
   "source": [
    "index = np.arange(4)\n",
    "bar_width = 0.35\n",
    "\n",
    "fig, ax = plt.subplots(1, 1, figsize=(12, 5))\n",
    "plt.bar(index, sharp_gpr, bar_width, label='Gaussian process regression')\n",
    "plt.bar(index + bar_width, sharp_ngb, bar_width, label='NgBoost')\n",
    "plt.xticks(index + bar_width/2, ('Kuleshov', 'CRUDE', 'Combination 1', 'Combination 2'))\n",
    "plt.ylabel('Sharpness')\n",
    "\n",
    "plt.legend()\n",
    "plt.show()"
   ]
  },
  {
   "cell_type": "markdown",
   "id": "b1165680",
   "metadata": {},
   "source": [
    "### When not to trust your model"
   ]
  },
  {
   "cell_type": "code",
   "execution_count": null,
   "id": "b408e46b",
   "metadata": {},
   "outputs": [],
   "source": [
    "# st_dev = [cdf_cals_ngb, cdf_cals_gpr, ngb_std_crude, gpr_std_crude, \n",
    "#           ngb_std_comb, gpr_std_comb, ngb_std_comb2, gpr_std_comb2]\n",
    "\n",
    "flagged = np.zeros((len(cdf_cals_ngb), len(st_dev)))\n",
    "index = 0\n",
    "\n",
    "for dev in st_dev:\n",
    "    for i in range(len(dev)):\n",
    "        if dev[i] > 0.8:\n",
    "            flagged[i, index] = 1\n",
    "    index = index + 1\n",
    "            "
   ]
  },
  {
   "cell_type": "code",
   "execution_count": null,
   "id": "b30cb986",
   "metadata": {},
   "outputs": [],
   "source": [
    "num_ones = sum(cell for row in flagged for cell in row)\n",
    "print(num_ones)"
   ]
  },
  {
   "cell_type": "code",
   "execution_count": null,
   "id": "07a76505",
   "metadata": {},
   "outputs": [],
   "source": [
    "print(flagged.size)\n",
    "print(num_ones/flagged.size)"
   ]
  },
  {
   "cell_type": "markdown",
   "id": "5b54a9da",
   "metadata": {},
   "source": [
    "### Combination coverage"
   ]
  },
  {
   "cell_type": "code",
   "execution_count": 92,
   "id": "6ef08d07",
   "metadata": {},
   "outputs": [],
   "source": [
    "def comb_coverage(comb, y_true_test):\n",
    "   \n",
    "    cov = []\n",
    "    p_values = np.arange(0.05,1,0.05)\n",
    "    \n",
    "    for p in p_values:\n",
    "        count = 0\n",
    "        for i in range(len(comb)):\n",
    "            comb_range = comb[i,1] - comb[i,0] \n",
    "            if comb_range < p:\n",
    "                count = count + 1\n",
    "        cov.append(count/len(comb))\n",
    "        \n",
    "    return cov"
   ]
  },
  {
   "cell_type": "code",
   "execution_count": 93,
   "id": "3d6b8270",
   "metadata": {},
   "outputs": [],
   "source": [
    "comb_cov_ngb = comb_coverage(ngb_comb_intervals, y_true_test)\n",
    "comb_cov_gpr = comb_coverage(gpr_comb_intervals, y_true_test)\n",
    "\n",
    "comb_cov_ngb2 = comb_coverage(ngb_comb_intervals2, y_true_test)\n",
    "comb_cov_gpr2 = comb_coverage(gpr_comb_intervals2, y_true_test)"
   ]
  },
  {
   "cell_type": "code",
   "execution_count": null,
   "id": "1c1b3bce",
   "metadata": {},
   "outputs": [],
   "source": [
    "len(comb_cov_ngb)"
   ]
  },
  {
   "cell_type": "code",
   "execution_count": 70,
   "id": "332d302d",
   "metadata": {},
   "outputs": [],
   "source": [
    "cov_kuleshov_gpr = np.zeros((len(cov_crude_gpr),1))\n",
    "cov_kuleshov_ngb = np.zeros((len(cov_crude_gpr),1))\n",
    "cov_unc_gpr = np.zeros((len(cov_crude_gpr),1))\n",
    "cov_unc_ngb = np.zeros((len(cov_crude_gpr),1))\n",
    "\n",
    "index = 0\n",
    "\n",
    "for i in range(len(cov_kuleshov_calc_gpr)):\n",
    "    if i%2==0:\n",
    "        cov_kuleshov_gpr[index] = cov_kuleshov_calc_gpr[i]\n",
    "        cov_kuleshov_ngb[index] = cov_kuleshov_calc_ngb[i]\n",
    "        cov_unc_gpr[index] = cov_uncal_gpr[i]\n",
    "        cov_unc_ngb[index] = cov_uncal_ngb[i]\n",
    "        index = index + 1\n"
   ]
  },
  {
   "cell_type": "markdown",
   "id": "112451e4",
   "metadata": {},
   "source": [
    "### Comparison of coverage/recalibration"
   ]
  },
  {
   "cell_type": "code",
   "execution_count": 97,
   "id": "4f54231a",
   "metadata": {},
   "outputs": [
    {
     "data": {
      "image/png": "[encoded data removed]",
      "text/plain": [
       "<Figure size 864x360 with 2 Axes>"
      ]
     },
     "metadata": {
      "needs_background": "light"
     },
     "output_type": "display_data"
    }
   ],
   "source": [
    "x = np.linspace(0.05, 0.95, 19)\n",
    "\n",
    "fig, (ax1, ax2) = plt.subplots(1, 2, figsize=(12, 5))\n",
    "\n",
    "ax1.plot(x, x + 0, linestyle=\"dashed\", color='lightgray')\n",
    "ax1.plot(x, cov_crude_gpr, 'o', label='CRUDE')\n",
    "ax1.plot(x, cov_kuleshov_calc_gpr, 'o', label='Kuleshov')\n",
    "ax1.plot(x, cov_uncal_gpr, 'x', label='Uncalibrated')\n",
    "# ax1.plot(x, comb_cov_gpr, '+', label='Combination 1')\n",
    "# ax1.plot(x, comb_cov_gpr2, 'x', label='Combination 2')\n",
    "ax1.set_xlabel('Confidence limit')\n",
    "ax1.set_ylabel('Coverage')\n",
    "ax1.set_title('Gaussian Process Regression')\n",
    "ax1.legend()\n",
    "\n",
    "ax2.plot(x, x + 0, linestyle=\"dashed\", color='lightgray')\n",
    "ax2.plot(x, cov_crude_ngb, 'o', label='CRUDE')\n",
    "ax2.plot(x, cov_kuleshov_calc_ngb, 'o', label='Kuleshov')\n",
    "ax2.plot(x, cov_uncal_ngb, 'x', label='Uncalibrated')\n",
    "# ax2.plot(x, comb_cov_ngb, '+', label='Combination 1')\n",
    "# ax2.plot(x, comb_cov_gpr2, 'x', label='Combination 2')\n",
    "ax2.set_xlabel('Confidence limit')\n",
    "ax2.set_ylabel('Coverage')\n",
    "ax2.set_title('NgBoost')\n",
    "ax2.legend()\n",
    "\n",
    "plt.show()"
   ]
  },
  {
   "cell_type": "code",
   "execution_count": null,
   "id": "90d7a353",
   "metadata": {},
   "outputs": [],
   "source": []
  },
  {
   "cell_type": "code",
   "execution_count": null,
   "id": "4b1204e5",
   "metadata": {},
   "outputs": [],
   "source": []
  },
  {
   "cell_type": "code",
   "execution_count": null,
   "id": "5eaeef25",
   "metadata": {},
   "outputs": [],
   "source": []
  },
  {
   "cell_type": "code",
   "execution_count": null,
   "id": "5878696c",
   "metadata": {},
   "outputs": [],
   "source": []
  },
  {
   "cell_type": "code",
   "execution_count": 178,
   "id": "e9fdfa61",
   "metadata": {},
   "outputs": [],
   "source": [
    "# from scipy.stats import norm\n",
    "\n",
    "# data_2 = np.arange(-4,4,0.01)\n",
    "# pdf = norm.pdf(data_2 , loc = 0 , scale = 1 )\n",
    " \n",
    "# #Visualizing the distribution\n",
    " \n",
    "# # sns.set_style('whitegrid')\n",
    "# # sns.lineplot(data_2, pdf , color = 'black')\n",
    "\n",
    "# plt.plot(data_2, pdf)\n",
    "# y2 = plt.axvline(x=-1, ls='--', color='orange')\n",
    "# plt.fill_between(data_2, pdf, y_vals, color='#539ecd')\n",
    "# # plt.xlabel('Heights')\n",
    "# # plt.ylabel('Probability Density')\n",
    "# plt.show()"
   ]
  },
  {
   "cell_type": "code",
   "execution_count": 192,
   "id": "28f93a24",
   "metadata": {},
   "outputs": [
    {
     "data": {
      "image/png": "[encoded data removed]",
      "text/plain": [
       "<Figure size 640x480 with 1 Axes>"
      ]
     },
     "metadata": {},
     "output_type": "display_data"
    }
   ],
   "source": [
    "import numpy as np\n",
    "import matplotlib.pyplot as plt\n",
    "from scipy import stats as stats\n",
    "plt.style.use('default')\n",
    "sns.set_style('whitegrid')\n",
    "\n",
    "mean=0\n",
    "std=1\n",
    "\n",
    "x=np.linspace(mean-3*std, mean+3*std,100)\n",
    "iq=stats.norm(mean,std)\n",
    "plt.plot(x,iq.pdf(x))\n",
    "px=np.arange(-3,-0.4,0.1)\n",
    "plt.fill_between(px,iq.pdf(px), color='lightskyblue')\n",
    "\n",
    "plt.show()"
   ]
  },
  {
   "cell_type": "code",
   "execution_count": 220,
   "id": "8189a18b",
   "metadata": {},
   "outputs": [
    {
     "data": {
      "image/png": "[encoded data removed]",
      "text/plain": [
       "<Figure size 1500x500 with 3 Axes>"
      ]
     },
     "metadata": {},
     "output_type": "display_data"
    }
   ],
   "source": [
    "import numpy as np\n",
    "import matplotlib.pyplot as plt\n",
    "from scipy import stats as stats\n",
    "plt.style.use('default')\n",
    "sns.set_style('whitegrid')\n",
    "\n",
    "x=np.linspace(mean-4*std, mean+4*std,100)\n",
    "\n",
    "mean=0\n",
    "std=1\n",
    "iq=stats.norm(mean,std)\n",
    "px=np.arange(-1.2,1.3,0.1)\n",
    "\n",
    "std2=1.5\n",
    "iq2=stats.norm(mean,std2)\n",
    "px2=np.arange(-2.0,2.1,0.1)\n",
    "\n",
    "std3=0.7\n",
    "iq3=stats.norm(mean,std3)\n",
    "px3=np.arange(-0.8,0.9,0.1)\n",
    "\n",
    "fig, (ax1, ax2, ax3) = plt.subplots(1, 3, figsize=(15, 5))\n",
    "\n",
    "ax1.plot(x,iq.pdf(x))\n",
    "ax1.axvline(x=-1.5, ls='--', color='green')\n",
    "ax1.axvline(x=0, ls='-', color='red')\n",
    "ax1.fill_between(px,iq.pdf(px), color='lightskyblue')\n",
    "ax1.set_ylim(0,0.6)\n",
    "ax1.set_xlim(-4,4)\n",
    "#ax1.set_title('Mean = 0, standard deviation = 1')\n",
    "\n",
    "ax2.plot(x,iq2.pdf(x))\n",
    "ax2.axvline(x=-1.5, ls='--', color='green')\n",
    "ax2.axvline(x=0, ls='-', color='red')\n",
    "ax2.fill_between(px2,iq2.pdf(px2), color='lightskyblue')\n",
    "ax2.set_ylim(0,0.6)\n",
    "ax2.set_xlim(-4,4)\n",
    "#ax2.set_title('Mean = 0, standard deviation = 1.5')\n",
    "\n",
    "ax3.plot(x,iq3.pdf(x))\n",
    "ax3.axvline(x=-1.5, ls='--', color='green')\n",
    "ax3.axvline(x=0, ls='-', color='red')\n",
    "ax3.fill_between(px3,iq3.pdf(px3), color='lightskyblue')\n",
    "ax3.set_ylim(0,0.6)\n",
    "ax3.set_xlim(-4,4)\n",
    "#ax3.set_title('Mean = 0, standard deviation = 0.7')\n",
    "\n",
    "plt.show()"
   ]
  },
  {
   "cell_type": "code",
   "execution_count": 206,
   "id": "e742e92e",
   "metadata": {},
   "outputs": [
    {
     "data": {
      "image/png": "[encoded data removed]",
      "text/plain": [
       "<Figure size 640x480 with 1 Axes>"
      ]
     },
     "metadata": {},
     "output_type": "display_data"
    }
   ],
   "source": [
    "mean=0\n",
    "std=1.5\n",
    "\n",
    "x=np.linspace(mean-3*std, mean+3*std,100)\n",
    "iq=stats.norm(mean,std)\n",
    "plt.plot(x,iq.pdf(x))\n",
    "px=np.arange(-2.5,2.6,0.1)\n",
    "plt.axvline(x=-1.5, ls='--', color='orange')\n",
    "plt.axvline(x=0, ls='--', color='red')\n",
    "plt.fill_between(px,iq.pdf(px), color='lightskyblue')\n",
    "plt.ylim(0,0.6)\n",
    "\n",
    "plt.show()"
   ]
  },
  {
   "cell_type": "code",
   "execution_count": 209,
   "id": "8351051e",
   "metadata": {},
   "outputs": [
    {
     "data": {
      "image/png": "[encoded data removed]",
      "text/plain": [
       "<Figure size 640x480 with 1 Axes>"
      ]
     },
     "metadata": {},
     "output_type": "display_data"
    }
   ],
   "source": [
    "mean=0\n",
    "std=0.7\n",
    "\n",
    "x=np.linspace(mean-3*std, mean+3*std,100)\n",
    "iq=stats.norm(mean,std)\n",
    "plt.plot(x,iq.pdf(x))\n",
    "px=np.arange(-0.5,0.6,0.1)\n",
    "plt.axvline(x=-1.5, ls='--', color='orange')\n",
    "plt.axvline(x=0, ls='--', color='red')\n",
    "plt.fill_between(px,iq.pdf(px), color='lightskyblue')\n",
    "plt.ylim(0,0.6)\n",
    "\n",
    "plt.show()"
   ]
  },
  {
   "cell_type": "code",
   "execution_count": null,
   "id": "354a518d",
   "metadata": {},
   "outputs": [],
   "source": []
  },
  {
   "cell_type": "code",
   "execution_count": 147,
   "id": "65d04192",
   "metadata": {},
   "outputs": [],
   "source": [
    "point1 = [-1, 0]\n",
    "point2 = [-1, 0.24]\n",
    "\n",
    "x_values = [point1[0], point2[0]]\n",
    "\n",
    "y_values = [point1[1], point2[1]]"
   ]
  },
  {
   "cell_type": "code",
   "execution_count": 152,
   "id": "3633b927",
   "metadata": {},
   "outputs": [],
   "source": [
    "y_vals = np.arange(0,8,0.01)\n",
    "x_vals = -1 * np.ones(800)"
   ]
  },
  {
   "cell_type": "code",
   "execution_count": null,
   "id": "8f731227",
   "metadata": {},
   "outputs": [],
   "source": []
  },
  {
   "cell_type": "code",
   "execution_count": null,
   "id": "8f957814",
   "metadata": {},
   "outputs": [],
   "source": []
  },
  {
   "cell_type": "code",
   "execution_count": null,
   "id": "d8ce232c",
   "metadata": {},
   "outputs": [],
   "source": []
  },
  {
   "cell_type": "code",
   "execution_count": null,
   "id": "e38941ad",
   "metadata": {},
   "outputs": [],
   "source": []
  },
  {
   "cell_type": "code",
   "execution_count": null,
   "id": "65232c5a",
   "metadata": {},
   "outputs": [],
   "source": []
  },
  {
   "cell_type": "markdown",
   "id": "19efcdfd",
   "metadata": {},
   "source": [
    "### Boxplot of sharpness"
   ]
  },
  {
   "cell_type": "code",
   "execution_count": null,
   "id": "0eeae01f",
   "metadata": {},
   "outputs": [],
   "source": [
    "lst1 = ['NgBoost'] * len(ngb_comb_intervals)\n",
    "lst2 = ['Gaussian Process Regression'] * len(ngb_comb_intervals)"
   ]
  },
  {
   "cell_type": "code",
   "execution_count": null,
   "id": "435ba3a8",
   "metadata": {},
   "outputs": [],
   "source": [
    "interval_name = ['crude_interval', 'kuleshov_interval', 'comb1_interval', 'comb2_interval', 'ngb_or_gpr']\n",
    "sharpness_ngb = pd.DataFrame(columns=interval_name)  \n",
    "sharpness_gpr = pd.DataFrame(columns=interval_name) \n",
    "sharpness_ngb['ngb_or_gpr'] = lst1\n",
    "sharpness_gpr['ngb_or_gpr'] = lst2"
   ]
  },
  {
   "cell_type": "code",
   "execution_count": null,
   "id": "49b1ba09",
   "metadata": {},
   "outputs": [],
   "source": [
    "for i in range(len(ngb_comb_intervals)):\n",
    "    sharpness_ngb.loc[i, 'crude_interval'] = ngb_crude_range[i,1] - ngb_crude_range[i,0]\n",
    "    sharpness_ngb.loc[i, 'kuleshov_interval'] = ngb_kuleshov_range[i,1] - ngb_kuleshov_range[i,0]\n",
    "    sharpness_ngb.loc[i, 'comb1_interval'] = ngb_comb_intervals[i,1] - ngb_comb_intervals[i,0]\n",
    "    sharpness_ngb.loc[i, 'comb2_interval'] = ngb_comb_intervals2[i,1] - ngb_comb_intervals2[i,0]\n"
   ]
  },
  {
   "cell_type": "code",
   "execution_count": null,
   "id": "3bc4de90",
   "metadata": {},
   "outputs": [],
   "source": [
    "for i in range(len(ngb_comb_intervals)):\n",
    "    sharpness_gpr.loc[i, 'crude_interval'] = gpr_crude_range[i,1] - gpr_crude_range[i,0]\n",
    "    sharpness_gpr.loc[i, 'kuleshov_interval'] = gpr_kuleshov_range[i,1] - gpr_kuleshov_range[i,0]\n",
    "    sharpness_gpr.loc[i, 'comb1_interval'] = gpr_comb_intervals[i,1] - gpr_comb_intervals[i,0]\n",
    "    sharpness_gpr.loc[i, 'comb2_interval'] = gpr_comb_intervals2[i,1] - gpr_comb_intervals2[i,0]\n"
   ]
  },
  {
   "cell_type": "code",
   "execution_count": null,
   "id": "69c0e2d8",
   "metadata": {},
   "outputs": [],
   "source": [
    "frames_ = [sharpness_ngb, sharpness_gpr]\n",
    "sharpness_boxplot = pd.concat(frames_)"
   ]
  },
  {
   "cell_type": "code",
   "execution_count": null,
   "id": "5f3d9b27",
   "metadata": {},
   "outputs": [],
   "source": [
    "new_df = pd.melt(sharpness_boxplot.iloc[:,:4])\n",
    "print(new_df)"
   ]
  },
  {
   "cell_type": "code",
   "execution_count": null,
   "id": "8532bf49",
   "metadata": {},
   "outputs": [],
   "source": [
    "for i in range(len(new_df)):\n",
    "    if i < len(ngb_crude_range):\n",
    "        new_df.loc[i, 'ngb_or_gpr'] = 'NgBoost'\n",
    "    elif i >= len(ngb_crude_range) and i < 2*len(ngb_crude_range):\n",
    "        new_df.loc[i, 'ngb_or_gpr'] = 'Gaussian Process Regression'\n",
    "    elif i >= 2*len(ngb_crude_range) and i < 3*len(ngb_crude_range):\n",
    "        new_df.loc[i, 'ngb_or_gpr'] = 'NgBoost'\n",
    "    elif i >= 3*len(ngb_crude_range) and i < 4*len(ngb_crude_range):\n",
    "        new_df.loc[i, 'ngb_or_gpr'] = 'Gaussian Process Regression'\n",
    "    elif i >= 4*len(ngb_crude_range) and i < 5*len(ngb_crude_range):\n",
    "        new_df.loc[i, 'ngb_or_gpr'] = 'NgBoost'\n",
    "    elif i >= 5*len(ngb_crude_range) and i < 6*len(ngb_crude_range):\n",
    "        new_df.loc[i, 'ngb_or_gpr'] = 'Gaussian Process Regression'\n",
    "    elif i >= 6*len(ngb_crude_range) and i < 7*len(ngb_crude_range):\n",
    "        new_df.loc[i, 'ngb_or_gpr'] = 'NgBoost'\n",
    "    else:\n",
    "        new_df.loc[i, 'ngb_or_gpr'] = 'Gaussian Process Regression'"
   ]
  },
  {
   "cell_type": "code",
   "execution_count": null,
   "id": "61437348",
   "metadata": {},
   "outputs": [],
   "source": [
    "fig, ax = plt.subplots(1,1, figsize=(15, 6))\n",
    "ax = sns.boxplot(x='variable', y=\"value\", hue='ngb_or_gpr', data=new_df)"
   ]
  },
  {
   "cell_type": "markdown",
   "id": "b2ba5c96",
   "metadata": {},
   "source": [
    "### Coverage RMSE"
   ]
  },
  {
   "cell_type": "code",
   "execution_count": 98,
   "id": "7787824f",
   "metadata": {},
   "outputs": [],
   "source": [
    "lst = ['cov_uncal_gpr', 'cov_crude_gpr', 'cov_kuleshov_gpr', 'comb_cov_gpr', 'comb_cov_gpr2',\n",
    "       'cov_uncal_ngb', 'cov_crude_ngb', 'cov_kuleshov_ngb', 'comb_cov_ngb', 'comb_cov_ngb2']\n",
    "coverages = [cov_uncal_gpr, cov_crude_gpr, cov_kuleshov_calc_gpr, comb_cov_gpr, comb_cov_gpr2,\n",
    "            cov_uncal_ngb, cov_crude_ngb, cov_kuleshov_calc_ngb, comb_cov_ngb, comb_cov_ngb2]\n",
    "\n",
    "df = pd.DataFrame(columns=lst)  "
   ]
  },
  {
   "cell_type": "code",
   "execution_count": 99,
   "id": "033a1ae0",
   "metadata": {},
   "outputs": [],
   "source": [
    "for (cov, col) in zip(coverages, lst):\n",
    "    for i in range(len(cov_unc_gpr)):\n",
    "        df.loc[i, col] = abs(x[i]-cov[i])"
   ]
  },
  {
   "cell_type": "code",
   "execution_count": 100,
   "id": "7fe69aef",
   "metadata": {},
   "outputs": [
    {
     "data": {
      "image/png": "[encoded data removed]",
      "text/plain": [
       "<Figure size 1080x360 with 2 Axes>"
      ]
     },
     "metadata": {
      "needs_background": "light"
     },
     "output_type": "display_data"
    }
   ],
   "source": [
    "fig, (ax1, ax2) = plt.subplots(1, 2, figsize=(15, 5))\n",
    "ax1.plot(x, df.cov_uncal_gpr.values, label='uncalibrated')\n",
    "ax1.plot(x, df.cov_crude_gpr.values, label='CRUDE')\n",
    "ax1.plot(x, df.cov_kuleshov_gpr.values, label='Kuleshov')\n",
    "ax1.plot(x, df.comb_cov_gpr.values, label='comb')\n",
    "ax1.plot(x, df.comb_cov_gpr2.values, label='comb2')\n",
    "ax1.legend()\n",
    "\n",
    "ax2.plot(x, df.cov_uncal_ngb.values, label='uncalibrated')\n",
    "ax2.plot(x, df.cov_crude_ngb.values, label='CRUDE')\n",
    "ax2.plot(x, df.cov_kuleshov_ngb.values, label='Kuleshov')\n",
    "ax2.plot(x, df.comb_cov_ngb.values, label='comb')\n",
    "ax2.plot(x, df.comb_cov_ngb2.values, label='comb2')\n",
    "ax2.legend()\n",
    "\n",
    "plt.show()"
   ]
  },
  {
   "cell_type": "code",
   "execution_count": 101,
   "id": "af3cc04d",
   "metadata": {},
   "outputs": [],
   "source": [
    "rmse = []\n",
    "\n",
    "for col in lst:\n",
    "    sum_ = sum(df[col].values)\n",
    "    rmse.append(sum_/len(df[col]))\n"
   ]
  },
  {
   "cell_type": "code",
   "execution_count": 102,
   "id": "db0b51df",
   "metadata": {},
   "outputs": [
    {
     "name": "stdout",
     "output_type": "stream",
     "text": [
      "cov_uncal_gpr 0.0848330252041843\n",
      "cov_crude_gpr 0.006306896632421416\n",
      "cov_kuleshov_gpr 0.0053520863073646865\n",
      "comb_cov_gpr 0.2605602489995554\n",
      "comb_cov_gpr2 0.2605602489995554\n",
      "cov_uncal_ngb 0.07505792047927733\n",
      "cov_crude_ngb 0.003875406613465615\n",
      "cov_kuleshov_ngb 0.00622030844117857\n",
      "comb_cov_ngb 0.09859820739041916\n",
      "comb_cov_ngb2 0.09859820739041916\n"
     ]
    }
   ],
   "source": [
    "for (i, col) in zip(rmse, lst):\n",
    "    print(col, i)"
   ]
  },
  {
   "cell_type": "code",
   "execution_count": 103,
   "id": "b7ecf07b",
   "metadata": {},
   "outputs": [
    {
     "data": {
      "image/png": "[encoded data removed]",
      "text/plain": [
       "<Figure size 864x360 with 1 Axes>"
      ]
     },
     "metadata": {
      "needs_background": "light"
     },
     "output_type": "display_data"
    }
   ],
   "source": [
    "index = np.arange(5)\n",
    "bar_width = 0.35\n",
    "gpr = rmse[0:5]\n",
    "ngb = rmse[5:10]\n",
    "\n",
    "fig, ax = plt.subplots(1, 1, figsize=(12, 5))\n",
    "plt.bar(index, gpr, bar_width, label='Gaussian process regression')\n",
    "plt.bar(index + bar_width, ngb, bar_width, label='NgBoost')\n",
    "plt.xticks(index + bar_width/2, ('Uncalibrated', 'CRUDE', 'Kuleshov', 'Combination 1', 'Combination 2'))\n",
    "plt.ylabel('RMSE')\n",
    "\n",
    "plt.legend()\n",
    "plt.show()"
   ]
  },
  {
   "cell_type": "code",
   "execution_count": 106,
   "id": "63eece12",
   "metadata": {},
   "outputs": [
    {
     "data": {
      "image/png": "[encoded data removed]",
      "text/plain": [
       "<Figure size 576x360 with 1 Axes>"
      ]
     },
     "metadata": {
      "needs_background": "light"
     },
     "output_type": "display_data"
    }
   ],
   "source": [
    "fig, ax = plt.subplots(1, 1, figsize=(8, 5))\n",
    "plt.bar(index[0:3], gpr[0:3], bar_width, label='Gaussian process regression')\n",
    "plt.bar(index[0:3] + bar_width, ngb[0:3], bar_width, label='NgBoost')\n",
    "plt.xticks(index[0:3] + bar_width/2, ('Uncalibrated', 'CRUDE', 'Kuleshov'))\n",
    "plt.ylabel('RMSE')\n",
    "\n",
    "plt.legend()\n",
    "plt.show()"
   ]
  }
 ],
 "metadata": {
  "kernelspec": {
   "display_name": "Python 3",
   "language": "python",
   "name": "python3"
  },
  "language_info": {
   "codemirror_mode": {
    "name": "ipython",
    "version": 3
   },
   "file_extension": ".py",
   "mimetype": "text/x-python",
   "name": "python",
   "nbconvert_exporter": "python",
   "pygments_lexer": "ipython3",
   "version": "3.8.5"
  }
 },
 "nbformat": 4,
 "nbformat_minor": 5
}
