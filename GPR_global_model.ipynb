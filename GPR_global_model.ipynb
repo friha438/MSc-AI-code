{
 "cells": [
  {
   "cell_type": "markdown",
   "id": "052793fe",
   "metadata": {},
   "source": [
    "### Load data"
   ]
  },
  {
   "cell_type": "code",
   "execution_count": 1,
   "id": "8c509068",
   "metadata": {},
   "outputs": [],
   "source": [
    "import numpy as np\n",
    "import pandas as pd\n",
    "import math\n",
    "import random\n",
    "import GPy\n",
    "import seaborn as sns\n",
    "import matplotlib.pyplot as plt\n",
    "from sklearn.cluster import KMeans\n",
    "from mpl_toolkits.mplot3d.axes3d import Axes3D\n",
    "from sklearn.gaussian_process import GaussianProcessRegressor\n",
    "from sklearn.gaussian_process.kernels import WhiteKernel, RBF, Matern\n",
    "from sklearn.model_selection import train_test_split, KFold, cross_val_score\n",
    "from sklearn.metrics import mean_absolute_error, mean_squared_error\n",
    "from sklearn.preprocessing import MinMaxScaler\n",
    "\n",
    "# Hide some warnings\n",
    "pd.options.mode.chained_assignment = None "
   ]
  },
  {
   "cell_type": "code",
   "execution_count": 2,
   "id": "a019063d",
   "metadata": {},
   "outputs": [],
   "source": [
    "# Load four sheets from excel file\n",
    "\n",
    "denver = pd.read_excel('Datas.xls', sheet_name='DEN')\n",
    "newyork = pd.read_excel('Datas.xls', sheet_name='NYC')\n",
    "sanfrancisco = pd.read_excel('Datas.xls', sheet_name='SFC')\n",
    "texas = pd.read_excel('Datas.xls', sheet_name='TXS')\n",
    "\n",
    "# Set random seed\n",
    "random.seed(48)"
   ]
  },
  {
   "cell_type": "code",
   "execution_count": 3,
   "id": "cf7d12a1",
   "metadata": {},
   "outputs": [],
   "source": [
    "# Cleen data to make it easier to handle\n",
    "\n",
    "denver['station'] = denver['station'].replace(np.nan,'DENVER INTL AP')\n",
    "denver['station'] = denver['station'].replace('DENVER INTL AP', 'DEN')\n",
    "newyork['station'] = newyork['station'].replace(np.nan, 'JFK')\n",
    "sfc = sanfrancisco.drop(columns = 'valid', axis=1)"
   ]
  },
  {
   "cell_type": "code",
   "execution_count": 4,
   "id": "10669b9a",
   "metadata": {},
   "outputs": [],
   "source": [
    "#Function to rename columns \n",
    "\n",
    "def rename_columns(df, col_names):\n",
    "    cols = df.columns\n",
    "    for col, new_col in zip(cols, col_names):\n",
    "        df.rename(columns={col:new_col}, inplace=True)"
   ]
  },
  {
   "cell_type": "code",
   "execution_count": 5,
   "id": "6dbeec96",
   "metadata": {},
   "outputs": [],
   "source": [
    "# Rename columns in all datasets to same column names\n",
    "\n",
    "col_names = ['station', 'skycloud', 'day', 'tmpf', 'feel', \n",
    "             'zenith', 'azimuth', 'glob', 'direct', \n",
    "             'diffused', 'albedo', 'time', 'power']\n",
    "\n",
    "rename_columns(denver, col_names)\n",
    "rename_columns(newyork, col_names)\n",
    "rename_columns(sfc, col_names)\n",
    "rename_columns(texas, col_names)"
   ]
  },
  {
   "cell_type": "code",
   "execution_count": 6,
   "id": "222da900",
   "metadata": {},
   "outputs": [],
   "source": [
    "# Join all 4 datasets into a single dataframe\n",
    "\n",
    "frames = [denver, newyork, sfc, texas]\n",
    "data = pd.concat(frames)\n",
    "\n",
    "\n",
    "# Create dataset for denver station\n",
    "den = data.loc[data['station'] == 'DEN']"
   ]
  },
  {
   "cell_type": "markdown",
   "id": "acd04daf",
   "metadata": {},
   "source": [
    "### Feature selection\n",
    "For more detail on feature selection, see notebook 'GPR_article_recreation' "
   ]
  },
  {
   "cell_type": "code",
   "execution_count": 7,
   "id": "0b183dc4",
   "metadata": {},
   "outputs": [],
   "source": [
    "# Drop columns with low correlation\n",
    "\n",
    "den = den.drop(columns = ['skycloud', 'feel', 'albedo'], axis=1)"
   ]
  },
  {
   "cell_type": "code",
   "execution_count": 8,
   "id": "1f51c2eb",
   "metadata": {},
   "outputs": [],
   "source": [
    "# Drop rows with azimuth = -99 values\n",
    "\n",
    "den.drop(den.index[den['azimuth'] == -99], inplace = True)"
   ]
  },
  {
   "cell_type": "markdown",
   "id": "4df2a18c",
   "metadata": {},
   "source": [
    "### Scaler and train test split"
   ]
  },
  {
   "cell_type": "code",
   "execution_count": 9,
   "id": "1212056a",
   "metadata": {},
   "outputs": [],
   "source": [
    "# Create X and y values\n",
    "\n",
    "X_val = den.drop(columns = ['station', 'day', 'time', 'power'], axis=1)\n",
    "X = X_val.values\n",
    "y = den.power.values"
   ]
  },
  {
   "cell_type": "code",
   "execution_count": 33,
   "id": "cc47d586",
   "metadata": {},
   "outputs": [],
   "source": [
    "# Train test split and scale data\n",
    "\n",
    "X_train, X_test, y_train, y_test = train_test_split(X, y, test_size=0.25, random_state=48, shuffle=False)\n",
    "y_train = y_train.reshape(-1,1)\n",
    "y_test = y_test.reshape(-1,1)\n",
    "\n",
    "scaler = MinMaxScaler()\n",
    "X_tr_sc = scaler.fit_transform(X_train)\n",
    "X_te_sc = scaler.transform(X_test)\n",
    "y_tr_sc = scaler.fit_transform(y_train)\n",
    "y_te_sc = scaler.transform(y_test)"
   ]
  },
  {
   "cell_type": "code",
   "execution_count": 27,
   "id": "09c83058",
   "metadata": {},
   "outputs": [],
   "source": [
    "# Create length scale and length scale bounds\n",
    "\n",
    "feature_len = len(X_tr_sc[0])\n",
    "len_scale = np.ones(feature_len)\n",
    "\n",
    "hp_low = 1e-10\n",
    "hp_high = 100000\n",
    "\n",
    "hp_bounds = np.zeros(shape = (feature_len,2))\n",
    "hp_bounds[:,0] = hp_low\n",
    "hp_bounds[:,1] = hp_high"
   ]
  },
  {
   "cell_type": "markdown",
   "id": "26fefe39",
   "metadata": {},
   "source": [
    "### GPy model"
   ]
  },
  {
   "cell_type": "code",
   "execution_count": 12,
   "id": "cd6e2dc8",
   "metadata": {},
   "outputs": [],
   "source": [
    "# Gpy model matern 52 kernel\n",
    "\n",
    "kernel = GPy.kern.Matern52(ARD=True, input_dim=feature_len, lengthscale=len_scale)\n",
    "model = GPy.models.GPRegression(X_tr_sc, y_tr_sc, kernel) "
   ]
  },
  {
   "cell_type": "code",
   "execution_count": 13,
   "id": "dc8a61e1",
   "metadata": {},
   "outputs": [],
   "source": [
    "# Predict values\n",
    "\n",
    "mean, variance = model.predict(X_te_sc)"
   ]
  },
  {
   "cell_type": "code",
   "execution_count": 14,
   "id": "39a67607",
   "metadata": {},
   "outputs": [
    {
     "data": {
      "image/png": "[encoded data removed]",
      "text/plain": [
       "<Figure size 1080x432 with 1 Axes>"
      ]
     },
     "metadata": {
      "needs_background": "light"
     },
     "output_type": "display_data"
    }
   ],
   "source": [
    "# Scale back values and plot boxplot of predicted vs real values\n",
    "\n",
    "d_new = den[len(X_train):]\n",
    "mean_actual = scaler.inverse_transform(mean)\n",
    "\n",
    "lst1 = ['real'] * len(X_test)\n",
    "lst2 = ['predicted'] * len(X_test)\n",
    "\n",
    "test_df1 = d_new.copy()\n",
    "test_df1['y_vs_pred'] = lst1\n",
    "\n",
    "test_df2 = d_new.copy()\n",
    "test_df2.drop('power', inplace=True, axis=1)\n",
    "\n",
    "test_df2['y_vs_pred'] = lst2\n",
    "test_df2['power'] = mean_actual\n",
    "\n",
    "frames_ = [test_df1, test_df2]\n",
    "test_df = pd.concat(frames_)\n",
    "\n",
    "fig, ax = plt.subplots(1,1, figsize=(15, 6))\n",
    "ax = sns.boxplot(x=\"time\", y=\"power\", hue=\"y_vs_pred\", data=test_df)"
   ]
  },
  {
   "cell_type": "markdown",
   "id": "556918d5",
   "metadata": {},
   "source": [
    "### Sklearn GPR model"
   ]
  },
  {
   "cell_type": "code",
   "execution_count": 34,
   "id": "20808e9e",
   "metadata": {},
   "outputs": [
    {
     "data": {
      "text/plain": [
       "GaussianProcessRegressor(kernel=Matern(length_scale=[1, 1, 1, 1, 1, 1], nu=2.5) + WhiteKernel(noise_level=0.1))"
      ]
     },
     "execution_count": 34,
     "metadata": {},
     "output_type": "execute_result"
    }
   ],
   "source": [
    "# sklearn gpr model matern 52 kernel + white kernel\n",
    "\n",
    "kernel = Matern(length_scale=len_scale, length_scale_bounds=hp_bounds, nu=2.5) + WhiteKernel(noise_level=0.1)\n",
    "model2 = GaussianProcessRegressor(kernel=kernel)\n",
    "model2.fit(X_tr_sc, y_tr_sc)"
   ]
  },
  {
   "cell_type": "code",
   "execution_count": 36,
   "id": "43f4a918",
   "metadata": {},
   "outputs": [
    {
     "data": {
      "image/png": "[encoded data removed]",
      "text/plain": [
       "<Figure size 648x288 with 1 Axes>"
      ]
     },
     "metadata": {
      "needs_background": "light"
     },
     "output_type": "display_data"
    }
   ],
   "source": [
    "pred_val = model2.predict(X_te_sc)\n",
    "pred_val_new = scaler.inverse_transform(pred_val)\n",
    "\n",
    "lst1 = ['real'] * len(X_test)\n",
    "lst2 = ['predicted'] * len(X_test)\n",
    "\n",
    "test_df1 = d_new.copy()\n",
    "test_df1['y_vs_pred'] = lst1\n",
    "\n",
    "test_df2 = d_new.copy()\n",
    "test_df2.drop('power', inplace=True, axis=1)\n",
    "\n",
    "test_df2['y_vs_pred'] = lst2\n",
    "test_df2['power'] = pred_val_new\n",
    "\n",
    "frames_ = [test_df1, test_df2]\n",
    "test_df = pd.concat(frames_)\n",
    "\n",
    "fig, ax = plt.subplots(1,1, figsize=(9, 4))\n",
    "ax = sns.boxplot(x=\"time\", y=\"power\", hue=\"y_vs_pred\", data=test_df)\n",
    "ax.set_xlabel('Time (hour of the day)')\n",
    "ax.set_ylabel('Solar power output (kWh)')\n",
    "\n",
    "plt.show()"
   ]
  },
  {
   "cell_type": "code",
   "execution_count": 37,
   "id": "4775ada7",
   "metadata": {},
   "outputs": [
    {
     "name": "stdout",
     "output_type": "stream",
     "text": [
      "MAE (%):  8.899767580667667\n",
      "RMSE (%):  16.983569960803347\n"
     ]
    }
   ],
   "source": [
    "mae = mean_absolute_error(y_te_sc, pred_val)\n",
    "mse = mean_squared_error(y_te_sc, pred_val)\n",
    "rmse = math.sqrt(mse)\n",
    "\n",
    "print('MAE (%): ', mae*100)\n",
    "print('RMSE (%): ', rmse*100)"
   ]
  }
 ],
 "metadata": {
  "kernelspec": {
   "display_name": "Python 3",
   "language": "python",
   "name": "python3"
  },
  "language_info": {
   "codemirror_mode": {
    "name": "ipython",
    "version": 3
   },
   "file_extension": ".py",
   "mimetype": "text/x-python",
   "name": "python",
   "nbconvert_exporter": "python",
   "pygments_lexer": "ipython3",
   "version": "3.8.5"
  }
 },
 "nbformat": 4,
 "nbformat_minor": 5
}
