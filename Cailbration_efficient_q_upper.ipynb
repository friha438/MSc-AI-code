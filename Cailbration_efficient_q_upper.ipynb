{
 "cells": [
  {
   "cell_type": "code",
   "execution_count": 1,
   "id": "7098d31c",
   "metadata": {},
   "outputs": [],
   "source": [
    "import numpy as np\n",
    "import pandas as pd\n",
    "import math\n",
    "import random\n",
    "import bisect \n",
    "import seaborn as sns\n",
    "import matplotlib.pyplot as plt\n",
    "import scipy.stats as stats\n",
    "from ngboost import NGBRegressor\n",
    "from sklearn.gaussian_process import GaussianProcessRegressor\n",
    "from sklearn.gaussian_process.kernels import WhiteKernel, Matern\n",
    "from sklearn.model_selection import train_test_split\n",
    "from sklearn.preprocessing import MinMaxScaler\n",
    "from sklearn.isotonic import IsotonicRegression\n",
    "\n",
    "# Hide some warnings\n",
    "pd.options.mode.chained_assignment = None "
   ]
  },
  {
   "cell_type": "code",
   "execution_count": 2,
   "id": "cfaa2403",
   "metadata": {},
   "outputs": [],
   "source": [
    "# Load four sheets from excel file\n",
    "\n",
    "denver = pd.read_excel('Datas.xls', sheet_name='DEN')\n",
    "newyork = pd.read_excel('Datas.xls', sheet_name='NYC')\n",
    "sanfrancisco = pd.read_excel('Datas.xls', sheet_name='SFC')\n",
    "texas = pd.read_excel('Datas.xls', sheet_name='TXS')\n",
    "\n",
    "# Set random seed\n",
    "random.seed(48)"
   ]
  },
  {
   "cell_type": "code",
   "execution_count": 3,
   "id": "b3772fb6",
   "metadata": {},
   "outputs": [],
   "source": [
    "# Cleen data to make it easier to handle\n",
    "\n",
    "denver['station'] = denver['station'].replace(np.nan,'DENVER INTL AP')\n",
    "denver['station'] = denver['station'].replace('DENVER INTL AP', 'DEN')\n",
    "newyork['station'] = newyork['station'].replace(np.nan, 'JFK')\n",
    "sfc = sanfrancisco.drop(columns = 'valid', axis=1)"
   ]
  },
  {
   "cell_type": "code",
   "execution_count": 4,
   "id": "28390aff",
   "metadata": {},
   "outputs": [],
   "source": [
    "#Function to rename columns \n",
    "\n",
    "def rename_columns(df, col_names):\n",
    "    cols = df.columns\n",
    "    for col, new_col in zip(cols, col_names):\n",
    "        df.rename(columns={col:new_col}, inplace=True)"
   ]
  },
  {
   "cell_type": "code",
   "execution_count": 5,
   "id": "a3205ebd",
   "metadata": {},
   "outputs": [],
   "source": [
    "# Rename columns in all datasets to same column names\n",
    "\n",
    "col_names = ['station', 'skycloud', 'day', 'tmpf', 'feel', \n",
    "             'zenith', 'azimuth', 'glob', 'direct', \n",
    "             'diffused', 'albedo', 'time', 'power']\n",
    "\n",
    "rename_columns(denver, col_names)\n",
    "rename_columns(newyork, col_names)\n",
    "rename_columns(sfc, col_names)\n",
    "rename_columns(texas, col_names)"
   ]
  },
  {
   "cell_type": "code",
   "execution_count": 6,
   "id": "581b6f2e",
   "metadata": {},
   "outputs": [],
   "source": [
    "# Join all 4 datasets into a single dataframe\n",
    "\n",
    "frames = [denver, newyork, sfc, texas]\n",
    "data = pd.concat(frames)\n",
    "\n",
    "\n",
    "# Create dataset for denver station\n",
    "den = data.loc[data['station'] == 'DEN']"
   ]
  },
  {
   "cell_type": "code",
   "execution_count": 7,
   "id": "44786e14",
   "metadata": {},
   "outputs": [],
   "source": [
    "# Drop columns with low correlation\n",
    "\n",
    "den = den.drop(columns = ['skycloud', 'feel', 'albedo'], axis=1)"
   ]
  },
  {
   "cell_type": "code",
   "execution_count": 8,
   "id": "bced7cbe",
   "metadata": {},
   "outputs": [],
   "source": [
    "# Drop rows with azimuth = -99 values\n",
    "\n",
    "den.drop(den.index[den['azimuth'] == -99], inplace = True)"
   ]
  },
  {
   "cell_type": "code",
   "execution_count": 9,
   "id": "7db0213e",
   "metadata": {},
   "outputs": [],
   "source": [
    "# Create X and y values\n",
    "\n",
    "X_val = den.drop(columns = ['station', 'power','day'], axis=1) \n",
    "X = X_val.values\n",
    "y = den.power.values"
   ]
  },
  {
   "cell_type": "code",
   "execution_count": 10,
   "id": "a8fbe68e",
   "metadata": {},
   "outputs": [],
   "source": [
    "# Train test split and scale data\n",
    "\n",
    "X_train, X_test, y_train, y_test = train_test_split(X, y, train_size=300, random_state=48, shuffle=True)\n",
    "y_train = y_train.reshape(-1,1)\n",
    "y_test = y_test.reshape(-1,1)\n",
    "\n",
    "scaler = MinMaxScaler()\n",
    "X_tr_sc = scaler.fit_transform(X_train)\n",
    "X_te_sc = scaler.transform(X_test)\n",
    "y_tr_sc = scaler.fit_transform(y_train)\n",
    "y_te_sc = scaler.transform(y_test)"
   ]
  },
  {
   "cell_type": "code",
   "execution_count": 11,
   "id": "8890b4a4",
   "metadata": {},
   "outputs": [],
   "source": [
    "X_calib, X_true_test, y_calib, y_true_test = train_test_split(X_te_sc, y_te_sc, test_size=0.5, random_state=48, shuffle=True)"
   ]
  },
  {
   "cell_type": "code",
   "execution_count": 12,
   "id": "25dc4f28",
   "metadata": {},
   "outputs": [],
   "source": [
    "# Create length scale and length scale bounds\n",
    "\n",
    "feature_len = len(X_tr_sc[0])\n",
    "len_scale = np.ones(feature_len)\n",
    "\n",
    "hp_low = 1e-10\n",
    "hp_high = 100000\n",
    "\n",
    "hp_bounds = np.zeros(shape = (feature_len,2))\n",
    "hp_bounds[:,0] = hp_low\n",
    "hp_bounds[:,1] = hp_high"
   ]
  },
  {
   "cell_type": "code",
   "execution_count": 13,
   "id": "fef818f1",
   "metadata": {},
   "outputs": [],
   "source": [
    "# sklearn gpr model matern 52 kernel + white kernel\n",
    "def gpr_model(len_sc, hp_b, X_tr, y_tr, X_cal, X_test):\n",
    "    kernel = Matern(length_scale=len_sc, length_scale_bounds=hp_b, nu=2.5) + WhiteKernel(noise_level=0.1)\n",
    "    model = GaussianProcessRegressor(kernel=kernel)\n",
    "    model.fit(X_tr, y_tr)\n",
    "    mean_calib, std_calib = model.predict(X_cal, return_std=True)\n",
    "    mean_true_test, std_true_test = model.predict(X_test, return_std=True)\n",
    "    \n",
    "    return mean_calib, std_calib, mean_true_test, std_true_test"
   ]
  },
  {
   "cell_type": "code",
   "execution_count": 14,
   "id": "30efae2c",
   "metadata": {},
   "outputs": [],
   "source": [
    "gpr_mean_calib, gpr_std_calib, gpr_mean_true_test, gpr_std_true_test = gpr_model(len_scale, hp_bounds, X_tr_sc, y_tr_sc, X_calib, X_true_test)"
   ]
  },
  {
   "cell_type": "code",
   "execution_count": 15,
   "id": "87ef9ede",
   "metadata": {},
   "outputs": [],
   "source": [
    "def ngb_model(X_tr, y_tr, X_cal, X_test):\n",
    "    ngb = NGBRegressor()\n",
    "    ngb.fit(X_tr, y_tr)\n",
    "    ngb_preds_calib = ngb.pred_dist(X_cal)\n",
    "    ngb_preds_test = ngb.pred_dist(X_test)\n",
    "    \n",
    "    mean_calib = ngb_preds_calib.params['loc']\n",
    "    std_calib = ngb_preds_calib.params['scale']\n",
    "    mean_test = ngb_preds_test.params['loc']\n",
    "    std_test = ngb_preds_test.params['scale']\n",
    "    \n",
    "    return mean_calib, std_calib, mean_test, std_test"
   ]
  },
  {
   "cell_type": "code",
   "execution_count": 16,
   "id": "0238792b",
   "metadata": {},
   "outputs": [
    {
     "name": "stderr",
     "output_type": "stream",
     "text": [
      "C:\\Users\\hartm\\anaconda3\\envs\\DeepLearning\\lib\\site-packages\\sklearn\\utils\\validation.py:63: DataConversionWarning: A column-vector y was passed when a 1d array was expected. Please change the shape of y to (n_samples, ), for example using ravel().\n",
      "  return f(*args, **kwargs)\n"
     ]
    },
    {
     "name": "stdout",
     "output_type": "stream",
     "text": [
      "[iter 0] loss=0.2639 val_loss=0.0000 scale=1.0000 norm=0.4704\n",
      "[iter 100] loss=-0.4870 val_loss=0.0000 scale=2.0000 norm=0.8366\n",
      "[iter 200] loss=-1.0777 val_loss=0.0000 scale=2.0000 norm=0.8157\n",
      "[iter 300] loss=-1.4716 val_loss=0.0000 scale=2.0000 norm=0.7935\n",
      "[iter 400] loss=-1.7144 val_loss=0.0000 scale=2.0000 norm=0.7963\n"
     ]
    }
   ],
   "source": [
    "ngb_mean_calib, ngb_std_calib, ngb_mean_true_test, ngb_std_true_test = ngb_model(X_tr_sc, y_tr_sc, X_calib, X_true_test)"
   ]
  },
  {
   "cell_type": "markdown",
   "id": "8e27597d",
   "metadata": {},
   "source": [
    "### CRUDE Calibration"
   ]
  },
  {
   "cell_type": "code",
   "execution_count": 17,
   "id": "4769fc78",
   "metadata": {},
   "outputs": [],
   "source": [
    "def find_z_scores(y_calib, mean_calib, std_calib):\n",
    "    z_calib = []\n",
    "\n",
    "    for i in range(len(mean_calib)):\n",
    "        dif = y_calib[i] - mean_calib[i] \n",
    "        z_st = dif/std_calib[i]\n",
    "        bisect.insort(z_calib, z_st) #sorted list of z_star values\n",
    "\n",
    "    # This is noted as Zc in the article\n",
    "    z_c = np.concatenate(z_calib, axis=0 )  \n",
    "    \n",
    "    return z_c"
   ]
  },
  {
   "cell_type": "code",
   "execution_count": 18,
   "id": "8b20e5f2",
   "metadata": {},
   "outputs": [],
   "source": [
    "# function to find quantiles, p is the target quantile level\n",
    "\n",
    "def CRUDE(z_c, mean_calib):\n",
    "    p_values = np.arange(0.05,1,0.05)\n",
    "    \n",
    "    # empty 2d array for z_p scores for all p values\n",
    "    z_p = np.zeros((len(p_values), 2))\n",
    "    \n",
    "    for p in range(len(p_values)):\n",
    "        \n",
    "        #define higher and lower boundries\n",
    "        p_up = round(p_values[p]+(1-p_values[p])/2, 3)\n",
    "        p_low = round(1-p_up, 3)\n",
    "\n",
    "        #determine which Zc values to include in both boundries\n",
    "        z_p_up = z_c[int(p_up * len(mean_calib))]\n",
    "        z_p_low = z_c[int(p_low * len(mean_calib))]\n",
    "        \n",
    "        z_p[p,0] = z_p_low\n",
    "        z_p[p,1] = z_p_up\n",
    "        \n",
    "    return z_p"
   ]
  },
  {
   "cell_type": "code",
   "execution_count": 19,
   "id": "f76f02da",
   "metadata": {},
   "outputs": [],
   "source": [
    "def find_quantiles(z_p, mean_true_test, std_true_test):\n",
    " \n",
    "    # empty 2*z_p array for lower and higher boundry values\n",
    "    q = np.zeros((len(mean_true_test), 2*len(z_p)))\n",
    "    index = 0\n",
    "    \n",
    "    for j in range(len(z_p)):  \n",
    "        for i in range(len(mean_true_test)):\n",
    "            #Define the lower and higher boundry for each data point\n",
    "            q_low = mean_true_test[i] + std_true_test[i] * z_p[j,0]\n",
    "            q_up = mean_true_test[i] + std_true_test[i] * z_p[j,1]\n",
    "            \n",
    "            q[i,index] = q_low\n",
    "            q[i,index + 1] = q_up\n",
    "        \n",
    "        index = index + 2       \n",
    "    return q"
   ]
  },
  {
   "cell_type": "code",
   "execution_count": 20,
   "id": "a817cd82",
   "metadata": {},
   "outputs": [],
   "source": [
    "def crude_coverage(q, y_true_test):\n",
    "\n",
    "    p_values = np.arange(0.05,1,0.05)\n",
    "    cov = []\n",
    "    index = 0\n",
    "\n",
    "    for p in p_values:\n",
    "        count = 0\n",
    "        for i in range(len(q)):\n",
    "            if (y_true_test[i] > q[i,index]) and (y_true_test[i] < q[i,index+1]):\n",
    "                count = count + 1 \n",
    "        index = index + 2\n",
    "        cov.append(count/len(q))\n",
    "        \n",
    "    return cov"
   ]
  },
  {
   "cell_type": "code",
   "execution_count": 21,
   "id": "15c060c5",
   "metadata": {},
   "outputs": [],
   "source": [
    "z_c_gpr = find_z_scores(y_calib, gpr_mean_calib, gpr_std_calib)\n",
    "z_p_gpr = CRUDE(z_c_gpr, gpr_mean_calib)\n",
    "q_gpr = find_quantiles(z_p_gpr, gpr_mean_true_test, gpr_std_true_test)\n",
    "q_gpr_calib = find_quantiles(z_p_gpr, gpr_mean_calib, gpr_std_calib)\n",
    "cov_crude_gpr = crude_coverage(q_gpr, y_true_test)"
   ]
  },
  {
   "cell_type": "code",
   "execution_count": 22,
   "id": "adcf653f",
   "metadata": {},
   "outputs": [],
   "source": [
    "z_c_ngb = find_z_scores(y_calib, ngb_mean_calib, ngb_std_calib)\n",
    "z_p_ngb = CRUDE(z_c_ngb, ngb_mean_calib)\n",
    "q_ngb = find_quantiles(z_p_ngb, ngb_mean_true_test, ngb_std_true_test)\n",
    "q_ngb_calib = find_quantiles(z_p_ngb, ngb_mean_calib, ngb_std_calib)\n",
    "cov_crude_ngb = crude_coverage(q_ngb, y_true_test)"
   ]
  },
  {
   "cell_type": "code",
   "execution_count": null,
   "id": "2c1597b7",
   "metadata": {},
   "outputs": [],
   "source": []
  },
  {
   "cell_type": "markdown",
   "id": "61702886",
   "metadata": {},
   "source": [
    "### Kuleshov calibration"
   ]
  },
  {
   "cell_type": "code",
   "execution_count": 23,
   "id": "97726343",
   "metadata": {},
   "outputs": [],
   "source": [
    "def find_conf_interval(mean_calib, y_calib, std_calib):\n",
    "\n",
    "    cdfs = []\n",
    "\n",
    "    for i in range(len(mean_calib)):\n",
    "        dif = y_calib[i] - mean_calib[i] \n",
    "        z_st = dif/std_calib[i]\n",
    "        cdf = stats.norm.cdf(z_st)\n",
    "        cdfs.append(cdf)\n",
    "\n",
    "#         if cdf < 0.5:\n",
    "#             centered.append(1 - 2*cdf)\n",
    "#         else:\n",
    "#             centered.append(cdf - (1-cdf))\n",
    "\n",
    "    # This is the Ft from the article\n",
    "    CI_cent = np.concatenate(cdfs, axis=0 )   \n",
    "    \n",
    "    return CI_cent"
   ]
  },
  {
   "cell_type": "code",
   "execution_count": 24,
   "id": "9bda2c22",
   "metadata": {},
   "outputs": [],
   "source": [
    "def find_coverage(CI_cent):\n",
    "    \n",
    "    cover_cent = []\n",
    "\n",
    "    for i in range(len(CI_cent)):\n",
    "        count = 0\n",
    "        for j in range(len(CI_cent)):\n",
    "            if CI_cent[j] < CI_cent[i]:\n",
    "                count = count +1\n",
    "        cov_cent = count/len(CI_cent)\n",
    "        cover_cent.append(cov_cent)\n",
    "    \n",
    "    return cover_cent"
   ]
  },
  {
   "cell_type": "code",
   "execution_count": 28,
   "id": "583d5edb",
   "metadata": {},
   "outputs": [],
   "source": [
    "# tol = 0.001\n",
    "# delta_mid = 2*tol\n",
    "# q_lower = 0\n",
    "# q_upper = 6 * (max(ngb_mean_true_test) - min(ngb_mean_true_test))\n",
    "# q_mid = 0.5 * (q_lower + q_upper)\n",
    "\n",
    "# print(max(y_true_test),min(y_true_test))\n",
    "\n",
    "# print(max(ngb_mean_true_test),min(ngb_mean_true_test))\n",
    "\n",
    "# print(delta_mid, q_lower, q_upper, q_mid)\n",
    "\n",
    "# e_low = stats.norm.cdf(ngb_mean_true_test[0]-q_mid)\n",
    "# e_upp = stats.norm.cdf(ngb_mean_true_test[0]+q_mid)\n",
    "\n",
    "# e_low1 = stats.norm.cdf(ngb_mean_true_test[1]-q_mid)\n",
    "# e_upp1 = stats.norm.cdf(ngb_mean_true_test[1]+q_mid)\n",
    "\n",
    "# print(e_low, e_upp)\n",
    "# print(e_low1, e_upp1)"
   ]
  },
  {
   "cell_type": "code",
   "execution_count": 721,
   "id": "8a22d155",
   "metadata": {},
   "outputs": [],
   "source": [
    "def train_ir_calc_coverage(CI_cent, cover_cent, mean_true_test, y_values, std_true_test):\n",
    "\n",
    "    ir = IsotonicRegression()\n",
    "    # empirical (H) first and predicted (P) next\n",
    "    h = ir.fit_transform(CI_cent, cover_cent)\n",
    "\n",
    "    coverage_cal_cent = []\n",
    "    coverage_uncal_cent = []\n",
    "\n",
    "    p_values = np.arange(0.05,1,0.05)\n",
    "    cdf_cals = np.zeros((len(mean_true_test), 1))\n",
    "    cdf_uncals = np.zeros((len(mean_true_test), 1))\n",
    "    limits = np.zeros((len(mean_true_test), len(p_values)))\n",
    "    \n",
    "    q_upper_init = 2.5*(max(mean_true_test) - min(mean_true_test))\n",
    "    \n",
    "    for p in reversed(range(len(p_values))):\n",
    "        count_cal = 0\n",
    "        count_cal_centered = 0\n",
    "        count_uncal = 0\n",
    "        \n",
    "        #get upper and lower p values\n",
    "        p_up = round(p_values[p]+(1-p_values[p])/2, 3)\n",
    "        p_low = round(1-p_up, 3)\n",
    "        \n",
    "        for j in range(len(mean_true_test)):\n",
    "            dif = y_values[j] - mean_true_test[j]\n",
    "            z_st = dif/std_true_test[j]   \n",
    "            cdf_uncal = stats.norm.cdf(z_st)\n",
    "            \n",
    "            tol = 0.001\n",
    "            delta_mid = 2*tol\n",
    "            q_lower = 0\n",
    "            q_upper = q_upper_init\n",
    "            if p < len(p_values) - 1:\n",
    "                q_upper = limits[j, p+1]\n",
    "            q_mid = 0.5 * (q_lower + q_upper)\n",
    "            \n",
    "            #recalibrate the cdfs using the trained isotonic regression model\n",
    "            cdf_cal = ir.predict(cdf_uncal)\n",
    "\n",
    "            while abs(delta_mid) > tol: \n",
    "                q_mid = 0.5 * (q_lower + q_upper)\n",
    "                \n",
    "                e_low = stats.norm.cdf(-q_mid/std_true_test[j])\n",
    "                e_upp = stats.norm.cdf(q_mid/std_true_test[j])\n",
    "                \n",
    "                e_low = e_low.reshape((1, 1))\n",
    "                e_upp = e_upp.reshape((1, 1))\n",
    "                \n",
    "                s_low = ir.predict(e_low)\n",
    "                if np.isnan(s_low):\n",
    "                    s_low = 0\n",
    "                    \n",
    "                s_upp = ir.predict(e_upp)\n",
    "                if np.isnan(s_upp):\n",
    "                    s_upp = 1\n",
    "                \n",
    "                true_ci = s_upp - s_low\n",
    "                delta_mid = true_ci - p_values[p]\n",
    "\n",
    "                if delta_mid > 0:\n",
    "                    q_upper = q_mid\n",
    "                else:\n",
    "                    q_lower = q_mid\n",
    "                                 \n",
    "                    \n",
    "            limits[j, p] = q_mid\n",
    "            \n",
    "            #Get cdfs, both calculated and uncalculated\n",
    "            cdf_cals[j,0] = cdf_cal\n",
    "            cdf_uncals[j,0] = cdf_uncal\n",
    "\n",
    "            #calculate coverage\n",
    "            if cdf_cal <= p_values[p]:\n",
    "                count_cal = count_cal+1\n",
    "                \n",
    "            if y_values[j] < mean_true_test[j] + limits[j,p] and y_values[j] > mean_true_test[j] - limits[j,p]:\n",
    "                count_cal_centered = count_cal_centered+1 \n",
    "\n",
    "            if cdf_uncal <= p_values[p]:\n",
    "                count_uncal = count_uncal+1\n",
    "\n",
    "#         print('Computed p limits',p)\n",
    "#         print('coverage_cal_cent',count_cal/len(mean_true_test))\n",
    "#         print('coverage_cal_centered',count_cal_centered/len(mean_true_test))\n",
    "#         print('coverage_uncal_cent',count_uncal/len(mean_true_test))\n",
    "        coverage_cal_cent.append(count_cal/len(mean_true_test))\n",
    "        coverage_uncal_cent.append(count_uncal/len(mean_true_test))\n",
    "        \n",
    "    return coverage_cal_cent, coverage_uncal_cent, cdf_cals, cdf_uncals, limits"
   ]
  },
  {
   "cell_type": "markdown",
   "id": "802a1c98",
   "metadata": {},
   "source": [
    "#### Kuleshov recalibration NgBoost"
   ]
  },
  {
   "cell_type": "code",
   "execution_count": 722,
   "id": "82bae97a",
   "metadata": {},
   "outputs": [],
   "source": [
    "# Get conf intervals+coverage and get recalibrated values for the test set\n",
    "conf_int_ngb = find_conf_interval(ngb_mean_calib, y_calib, ngb_std_calib)\n",
    "coverage_ngb = find_coverage(conf_int_ngb)\n",
    "cov_kuleshov_calc_ngb, cov_uncal_ngb, cdf_cals_ngb, cdf_uncals_ngb, limits_ngb = train_ir_calc_coverage(conf_int_ngb, coverage_ngb, \n",
    "                                                                            ngb_mean_true_test, y_true_test, ngb_std_true_test)"
   ]
  },
  {
   "cell_type": "code",
   "execution_count": 726,
   "id": "103454dd",
   "metadata": {},
   "outputs": [],
   "source": [
    "# Get recalibrated values for the calibration set\n",
    "cov_kuleshov_calc_ngb_calib, cov_uncal_ngb_calib, cdf_cals_ngb_calib, cdf_uncals_ngb_calib, limits_ngb_calib = train_ir_calc_coverage(\n",
    "    conf_int_ngb, coverage_ngb, ngb_mean_calib, y_calib, ngb_std_calib)"
   ]
  },
  {
   "cell_type": "markdown",
   "id": "c92904a1",
   "metadata": {},
   "source": [
    "#### Kuleshov recalibration GPR"
   ]
  },
  {
   "cell_type": "code",
   "execution_count": 727,
   "id": "2f10a360",
   "metadata": {},
   "outputs": [],
   "source": [
    "# Get conf intervals+coverage and get recalibrated values for the test set\n",
    "conf_int_gpr = find_conf_interval(gpr_mean_calib, y_calib, gpr_std_calib)\n",
    "coverage_gpr = find_coverage(conf_int_gpr)\n",
    "cov_kuleshov_calc_gpr, cov_uncal_gpr, cdf_cals_gpr, cdf_uncals_gpr, limits_gpr = train_ir_calc_coverage(conf_int_gpr, coverage_gpr, \n",
    "                                                                            gpr_mean_true_test, y_true_test, gpr_std_true_test)"
   ]
  },
  {
   "cell_type": "code",
   "execution_count": 728,
   "id": "0a0da9cc",
   "metadata": {},
   "outputs": [],
   "source": [
    "# Get recalibrated values for the calibration set\n",
    "cov_kuleshov_calc_gpr_calib, cov_uncal_gpr_calib, cdf_cals_gpr_calib, cdf_uncals_gpr_calib, limits_gpr_calib = train_ir_calc_coverage(\n",
    "    conf_int_gpr, coverage_gpr, gpr_mean_calib, y_calib, gpr_std_calib)"
   ]
  },
  {
   "cell_type": "code",
   "execution_count": 729,
   "id": "1be063d1",
   "metadata": {},
   "outputs": [],
   "source": [
    "# print(limits_gpr_calib)\n",
    "# print(limits_ngb_calib)"
   ]
  },
  {
   "cell_type": "code",
   "execution_count": 730,
   "id": "efe9553e",
   "metadata": {},
   "outputs": [],
   "source": [
    "# print(q_gpr_calib)\n",
    "# print(q_ngb_calib)"
   ]
  },
  {
   "cell_type": "code",
   "execution_count": 731,
   "id": "98c56a3a",
   "metadata": {},
   "outputs": [],
   "source": [
    "# X_len = 20\n",
    "# x = np.arange(X_len) \n",
    "# fig, (ax1, ax2, ax3) = plt.subplots(1, 3, figsize=(17,5))\n",
    "\n",
    "# ax1.plot(x[:X_len], ngb_mean_true_test[0:X_len], label='predicted')\n",
    "# #ax1.plot(x[:X_len])\n",
    "# ax1.fill_between(x[:X_len], ngb_mean_true_test[0:20] - limits_ngb[0:20,5], ngb_mean_true_test[0:20] + limits_ngb[0:20,5],\n",
    "#                  color='gray', alpha=0.2)\n",
    "# ax1.fill_between(x[:X_len], ngb_mean_true_test[0:20] - limits_ngb[0:20,18], ngb_mean_true_test[0:20] + limits_ngb[0:20,18],\n",
    "#                  color='salmon', alpha=0.2)\n",
    "\n",
    "# ax2.plot(x[:X_len], ngb_mean_true_test[0:X_len], label='predicted')\n",
    "# ax2.fill_between(x[:X_len], ngb_mean_true_test[0:20] - cdf_cals_ngb[0:20, 0]/2, ngb_mean_true_test[0:20] + cdf_cals_ngb[0:20, 0]/2,\n",
    "#                  color='gray', alpha=0.2)\n",
    "\n",
    "# ax3.plot(x[:X_len], ngb_mean_true_test[0:20], label='predicted')\n",
    "# ax3.fill_between(x[:X_len], q_ngb[0:20,36], q_ngb[0:20,37],\n",
    "#                  color='gray', label='kuleshov calibrated intervals', alpha=0.2)\n",
    "# plt.show()"
   ]
  },
  {
   "cell_type": "markdown",
   "id": "e42e1a5d",
   "metadata": {},
   "source": [
    "### Create data sets of ranges"
   ]
  },
  {
   "cell_type": "code",
   "execution_count": 512,
   "id": "d28b6f7d",
   "metadata": {},
   "outputs": [],
   "source": [
    "def ranges(q, mean, limits):\n",
    "    kuleshov_range = np.zeros((len(q), len(q[0])))\n",
    "\n",
    "    index = 0\n",
    "    for p in range(len(limits[0])):\n",
    "        for i in range(len(q)):\n",
    "            kuleshov_range[i,index] = mean[i] - limits[i,p]\n",
    "            kuleshov_range[i,index+1] = mean[i] + limits[i,p]\n",
    "        index = index + 2\n",
    "    \n",
    "    return q, kuleshov_range"
   ]
  },
  {
   "cell_type": "code",
   "execution_count": 513,
   "id": "df9d777f",
   "metadata": {},
   "outputs": [],
   "source": [
    "ngb_crude_range, ngb_kuleshov_range = ranges(q_ngb_calib, ngb_mean_calib, limits_ngb_calib)\n",
    "gpr_crude_range, gpr_kuleshov_range = ranges(q_gpr_calib, gpr_mean_calib, limits_gpr_calib)"
   ]
  },
  {
   "cell_type": "markdown",
   "id": "40cb6ab6",
   "metadata": {},
   "source": [
    "Each slot in the data set contains the conf intervals for that point from 0.05 up to 0.95. Hence, each slot has 38 values in it, the even values are the lower boundry of the interval while the odd values are the higher boundry. "
   ]
  },
  {
   "cell_type": "markdown",
   "id": "8f38673e",
   "metadata": {},
   "source": [
    "### Weights for intervals"
   ]
  },
  {
   "cell_type": "code",
   "execution_count": 738,
   "id": "063afbf9",
   "metadata": {},
   "outputs": [],
   "source": [
    "def get_weighted_ranges(crude_range, kuleshov_range, conf_limit):\n",
    "\n",
    "    # Set two weights, lower and upper, each ranging from 0 to 1 changing 0.1 at a time\n",
    "    w_lower = np.arange(0.0,1.1,0.1)\n",
    "    w_upper = np.arange(0.0,1.1,0.1)\n",
    "\n",
    "    # Save the final values in one array for upper + lower boundries, and one for the interval\n",
    "    w_ranges = np.zeros((len(crude_range), 2*len(w_upper)*len(w_lower)))\n",
    "    w_interval = np.zeros((len(crude_range), len(w_upper)*len(w_lower)))\n",
    "\n",
    "    index1 = 0\n",
    "    index2 = 0\n",
    "    \n",
    "    # Iterate through each combination of w_upper and w_lower\n",
    "    for w1 in w_lower:\n",
    "        for w2 in w_upper: \n",
    "            # Iterate through all values in the calibrated ranges data sets\n",
    "            for i in range(len(crude_range)):\n",
    "                # Calculate an upper and lower boundry based on previous ranges and weights\n",
    "                lb = w1 * kuleshov_range[i,conf_limit] + (1-w1) * crude_range[i,conf_limit]\n",
    "                ub = w2 * kuleshov_range[i,conf_limit +1] + (1-w2) * crude_range[i,conf_limit +1]\n",
    "\n",
    "#                 if i == 0:\n",
    "#                     print(w1, w2, kuleshov_range[i,conf_limit], kuleshov_range[i,conf_limit+1], \n",
    "#                           crude_range[i,conf_limit], crude_range[i,conf_limit +1])\n",
    "#                     print(lb, ub)\n",
    "                # Save resulting interval and lower + upper boundry for each point\n",
    "                w_interval[i, index1] = ub - lb\n",
    "                w_ranges[i, index2] = lb\n",
    "                w_ranges[i, index2+1] = ub\n",
    "\n",
    "            index1 = index1 + 1\n",
    "            index2 = index2 + 2\n",
    "    \n",
    "    # Returns an array 2249 values long and each point contains 121 intervals/ 242 ranges\n",
    "    return w_interval, w_ranges"
   ]
  },
  {
   "cell_type": "code",
   "execution_count": 740,
   "id": "2fb0b9f6",
   "metadata": {},
   "outputs": [],
   "source": [
    "c_lim = np.arange(0,len(ngb_crude_range[0]),2)\n",
    "weight_intervals_ngb = []\n",
    "weight_ranges_ngb = []\n",
    "\n",
    "# Iterate through all confidence limits (0.05 to 0.95)\n",
    "for i in c_lim:\n",
    "    w_interval_ngb, w_ranges_ngb = get_weighted_ranges(ngb_crude_range, ngb_kuleshov_range, i)\n",
    "    \n",
    "    # Save results in a list of intervals/ranges\n",
    "    weight_intervals_ngb.append(w_interval_ngb)\n",
    "    weight_ranges_ngb.append(w_ranges_ngb)\n"
   ]
  },
  {
   "cell_type": "code",
   "execution_count": 741,
   "id": "99e04056",
   "metadata": {},
   "outputs": [],
   "source": [
    "def get_coverage_weighted(w_interval, w_ranges, y_calib, mean_calib):\n",
    "\n",
    "    index = 0\n",
    "    counter = []\n",
    "    \n",
    "    # Iterate through each weight combination\n",
    "    for w in range(len(w_interval[0])):\n",
    "        count = 0\n",
    "        # Iterate through each point (2249 points)\n",
    "        for i in range(len(w_ranges)):\n",
    "\n",
    "            # Check if the prediction is in the interval\n",
    "            if y_calib[i] > w_ranges[i, index] and y_calib[i] < w_ranges[i, index + 1]:\n",
    "                count = count + 1\n",
    "                \n",
    "#             if i == 1000:\n",
    "#                 print(i, w, w_ranges[i, index], w_ranges[i, index+1], y_calib[i], mean_calib[i], count)\n",
    "                \n",
    "        # Divide by number of points to get coverage, save in counter for each weight combination\n",
    "        counter.append(float(count)/float(len(w_ranges)))\n",
    "        index = index + 2\n",
    "    \n",
    "    # Returns a list of all weight combination's coverage\n",
    "    return counter"
   ]
  },
  {
   "cell_type": "code",
   "execution_count": 742,
   "id": "15565e27",
   "metadata": {},
   "outputs": [],
   "source": [
    "coverages = []\n",
    "\n",
    "# Iterate through each confidence limit (0.05 to 0.95)\n",
    "for (ran, inter) in zip(weight_ranges_ngb, weight_intervals_ngb):\n",
    "\n",
    "    # Get the coverage of each weight combination\n",
    "    counter_ngb = get_coverage_weighted(inter, ran, y_calib, ngb_mean_calib)\n",
    "    coverages.append(counter_ngb)\n",
    "    \n",
    "# Coverages is a 19*121 sized array for all coverages of all weights"
   ]
  },
  {
   "cell_type": "code",
   "execution_count": 744,
   "id": "90b33ce7",
   "metadata": {},
   "outputs": [],
   "source": [
    "MSE = np.zeros(len(coverages[0]))\n",
    "p_val = np.arange(0.05,1,0.05)\n",
    "\n",
    "for w in range(len(coverages[0])):\n",
    "    for (p,c) in  zip(p_val,range(len(coverages))):\n",
    "        cov = coverages[c]\n",
    "        dif = cov[w] - p\n",
    "                \n",
    "        MSE[w] = MSE[w] + dif*dif\n",
    "        #print(w, round(p, 3), c, dif, cov[w], MSE[w])\n",
    "#print(MSE)"
   ]
  },
  {
   "cell_type": "code",
   "execution_count": 745,
   "id": "64a138aa",
   "metadata": {},
   "outputs": [],
   "source": [
    "def calc_sharpness_weighted(w_interval):\n",
    "\n",
    "    index = 0\n",
    "    sharpness = []\n",
    "    \n",
    "    # Iterate through each weight combination\n",
    "    for w in range(len(w_interval[0])):\n",
    "        sum_ranges = 0\n",
    "        count_invalid = 0\n",
    "        \n",
    "        # Iterate through each point (2249 points)\n",
    "        for i in range(len(w_interval)):   \n",
    "            sum_ranges = sum_ranges + w_interval[i,w] \n",
    "\n",
    "        #print(sum_ranges, sum_ranges/len(w_interval))\n",
    "        sharpness.append(sum_ranges/len(w_interval))\n",
    "    \n",
    "    # Returns a list of all weight combination's sharpness\n",
    "    return sharpness"
   ]
  },
  {
   "cell_type": "code",
   "execution_count": 750,
   "id": "e1115006",
   "metadata": {},
   "outputs": [],
   "source": [
    "sharpness = []\n",
    "for i in range(len(weight_intervals_ngb)):\n",
    "    sharpness.append(calc_sharpness_weighted(weight_intervals_ngb[i]))\n",
    "    \n",
    "sharpness = np.array(sharpness)"
   ]
  },
  {
   "cell_type": "code",
   "execution_count": 747,
   "id": "6a60a1b2",
   "metadata": {},
   "outputs": [],
   "source": [
    "# sharpness = np.array(sharpness)\n",
    "# print(sharpness[0,10], sharpness[1,10], sharpness[2,10], sharpness[3,10], sharpness[4,10], sharpness[5,10])\n",
    "# print(sharpness[6,10], sharpness[7,10], sharpness[8,10], sharpness[9,10], sharpness[10,10], sharpness[11,10])\n",
    "# print(sharpness[0,0], sharpness[1,0], sharpness[2,0], sharpness[3,0], sharpness[4,0], sharpness[5,0])\n",
    "# print(sharpness[6,0], sharpness[7,0], sharpness[8,0], sharpness[9,0], sharpness[10,0], sharpness[11,0])\n",
    "# #print(sharpness[1,:])\n",
    "\n",
    "# print(sharpness[18,10])\n",
    "# print(sharpness[18,0])"
   ]
  },
  {
   "cell_type": "code",
   "execution_count": 748,
   "id": "8a71ea5e",
   "metadata": {},
   "outputs": [],
   "source": [
    "# sharpness[0]"
   ]
  },
  {
   "cell_type": "code",
   "execution_count": 751,
   "id": "55783059",
   "metadata": {},
   "outputs": [],
   "source": [
    "sharp_score = []\n",
    "for w in range(len(sharpness[0])):\n",
    "    sum_sharp = 0\n",
    "    for p in range(len(sharpness)-1):\n",
    "        sum_sharp = sum_sharp + sharpness[p,w]\n",
    "        \n",
    "    #print((sharpness[0,w] + sharpness[1,w] + sharpness[2,w] + sharpness[3,w])/4)\n",
    "    sharp_score.append(sum_sharp/(len(sharpness)-1))\n"
   ]
  },
  {
   "cell_type": "code",
   "execution_count": 752,
   "id": "319f202d",
   "metadata": {},
   "outputs": [],
   "source": [
    "# print(sharp_score)"
   ]
  },
  {
   "cell_type": "code",
   "execution_count": 753,
   "id": "d933fd24",
   "metadata": {},
   "outputs": [
    {
     "data": {
      "image/png": "[encoded data removed]",
      "text/plain": [
       "<Figure size 864x360 with 1 Axes>"
      ]
     },
     "metadata": {
      "needs_background": "light"
     },
     "output_type": "display_data"
    }
   ],
   "source": [
    "fig, ax = plt.subplots(1, 1, figsize=(12, 5))\n",
    "plt.plot(sharp_score, MSE, 'o')\n",
    "plt.xlabel('Sharpness')\n",
    "plt.ylabel('MSE for calibration')\n",
    "\n",
    "plt.show()"
   ]
  },
  {
   "cell_type": "code",
   "execution_count": 754,
   "id": "9aa87382",
   "metadata": {},
   "outputs": [],
   "source": [
    "sharp_score2 = np.array(sharp_score)\n",
    "sharp_score3 = sharp_score2.reshape(-1,1)\n",
    "\n",
    "cal_score2 = np.array(MSE)\n",
    "cal_score3 = cal_score2.reshape(-1,1)\n",
    "\n",
    "scaler = MinMaxScaler()\n",
    "sharp_sc = scaler.fit_transform(sharp_score3)\n",
    "cal_sc = scaler.fit_transform(cal_score3)"
   ]
  },
  {
   "cell_type": "code",
   "execution_count": 755,
   "id": "0d00b0a6",
   "metadata": {},
   "outputs": [
    {
     "data": {
      "image/png": "[encoded data removed]",
      "text/plain": [
       "<Figure size 864x360 with 1 Axes>"
      ]
     },
     "metadata": {
      "needs_background": "light"
     },
     "output_type": "display_data"
    }
   ],
   "source": [
    "fig, ax = plt.subplots(1, 1, figsize=(12, 5))\n",
    "plt.plot(sharp_sc, cal_sc, 'o')\n",
    "plt.show()"
   ]
  },
  {
   "cell_type": "code",
   "execution_count": 702,
   "id": "5b4a0288",
   "metadata": {},
   "outputs": [],
   "source": [
    "#min_ = sharp_sc[0] + cal_sc[0]\n",
    "res = []\n",
    "\n",
    "for i in range(len(sharp_sc)):\n",
    "    #print(sharp_score[i], MSE[i], sharp_score[i]-MSE[i])\n",
    "    if sharp_sc[i] < 0.25 and cal_sc[i] < 0.25:\n",
    "        res.append(i)"
   ]
  },
  {
   "cell_type": "code",
   "execution_count": 703,
   "id": "7730145e",
   "metadata": {},
   "outputs": [
    {
     "name": "stdout",
     "output_type": "stream",
     "text": [
      "[41, 53, 65, 76]\n"
     ]
    }
   ],
   "source": [
    "print(res)"
   ]
  },
  {
   "cell_type": "code",
   "execution_count": 715,
   "id": "e5cc8476",
   "metadata": {},
   "outputs": [],
   "source": [
    "# for i in range(len(sharp_sc)):\n",
    "#     print(sharp_sc[i], cal_sc[i])"
   ]
  },
  {
   "cell_type": "code",
   "execution_count": 713,
   "id": "9700cc4d",
   "metadata": {},
   "outputs": [],
   "source": [
    "#min_ = sharp_sc[0] + cal_sc[0]\n",
    "res2 = []\n",
    "\n",
    "for i in range(len(sharp_sc)):\n",
    "    #print(sharp_score[i], MSE[i], sharp_score[i]-MSE[i])\n",
    "    if sharp_sc[i] + cal_sc[i] < 0.35:\n",
    "        res2.append(i)"
   ]
  },
  {
   "cell_type": "code",
   "execution_count": 714,
   "id": "1bb9b2d4",
   "metadata": {},
   "outputs": [
    {
     "name": "stdout",
     "output_type": "stream",
     "text": [
      "[87]\n"
     ]
    }
   ],
   "source": [
    "print(res2)"
   ]
  },
  {
   "cell_type": "code",
   "execution_count": 716,
   "id": "4a872a8e",
   "metadata": {},
   "outputs": [
    {
     "name": "stdout",
     "output_type": "stream",
     "text": [
      "[0.2852681] [0.06394839]\n",
      "[0.24075259] [0.2356924]\n",
      "[0.22225776] [0.20157378]\n",
      "[0.20376293] [0.19058014]\n",
      "[0.24451551] [0.11653672]\n"
     ]
    }
   ],
   "source": [
    "print(sharp_sc[87], cal_sc[87])\n",
    "print(sharp_sc[41], cal_sc[41])\n",
    "print(sharp_sc[53], cal_sc[53])\n",
    "print(sharp_sc[65], cal_sc[65])\n",
    "print(sharp_sc[76], cal_sc[76])"
   ]
  },
  {
   "cell_type": "code",
   "execution_count": 756,
   "id": "ada9d033",
   "metadata": {},
   "outputs": [],
   "source": [
    "# sharpness = []\n",
    "# for i in range(len(weight_intervals_ngb)):\n",
    "#     sharpness.append(calc_sharpness_weights(weight_intervals_ngb[i]))"
   ]
  },
  {
   "cell_type": "code",
   "execution_count": 757,
   "id": "ea0aecf4",
   "metadata": {},
   "outputs": [],
   "source": [
    "# p_val = np.arange(0.05,1,0.05)\n",
    "# best_w_cov = []\n",
    "\n",
    "# #Iterate through each sharpness for each conf interval\n",
    "# for (p,s) in zip(p_val,range(len(sharpness))):\n",
    "#     sharp = sharpness[s]\n",
    "    \n",
    "#     # Set the first sharpness score as min_\n",
    "#     min_ = sharp[0]\n",
    "    \n",
    "#     #Iterate through all 121 weight combinations \n",
    "#     for i in range(len(coverages[0])):\n",
    "#         # Find which weight combo has the best coverage\n",
    "#         if sharp[i] <= min_:\n",
    "#             min_ = sharp[i]\n",
    "#             res = i\n",
    "#     best_w_cov.append(res)"
   ]
  },
  {
   "cell_type": "code",
   "execution_count": null,
   "id": "9e3124f9",
   "metadata": {},
   "outputs": [],
   "source": []
  },
  {
   "cell_type": "markdown",
   "id": "b6d6ee7e",
   "metadata": {},
   "source": [
    "### Combine intervals"
   ]
  },
  {
   "cell_type": "code",
   "execution_count": 368,
   "id": "ebe70f48",
   "metadata": {},
   "outputs": [],
   "source": [
    "def comb_intervals1(crude_range, kuleshov_range):\n",
    "    comb_intervals = np.zeros((len(crude_range), 2))\n",
    "\n",
    "    for i in range(len(crude_range)):\n",
    "        crude_dif = (crude_range[i,1] - crude_range[i,0])\n",
    "        kuleshov_dif = (kuleshov_range[i,1]- kuleshov_range[i,0])\n",
    "        \n",
    "        if crude_dif < kuleshov_dif or np.isnan(kuleshov_dif):\n",
    "            comb_intervals[i,0] = crude_range[i,0]\n",
    "            comb_intervals[i,1] = crude_range[i,1]\n",
    "        else:\n",
    "            comb_intervals[i,0] = kuleshov_range[i,0]\n",
    "            comb_intervals[i,1] = kuleshov_range[i,1]\n",
    "        \n",
    "    return comb_intervals"
   ]
  },
  {
   "cell_type": "code",
   "execution_count": 369,
   "id": "d285c6a8",
   "metadata": {},
   "outputs": [],
   "source": [
    "def comb_intervals2(crude_range, kuleshov_range):\n",
    "    comb_intervals = np.zeros((len(crude_range), 2))\n",
    "\n",
    "    for i in range(len(crude_range)):\n",
    "        comb_intervals[i,1] = min(crude_range[i,1], kuleshov_range[i,1])\n",
    "        comb_intervals[i,0] = max(crude_range[i,0], kuleshov_range[i,0])\n",
    "        \n",
    "    return comb_intervals"
   ]
  },
  {
   "cell_type": "code",
   "execution_count": 370,
   "id": "3699e05d",
   "metadata": {},
   "outputs": [],
   "source": [
    "ngb_comb_intervals = comb_intervals1(ngb_crude_range, ngb_kuleshov_range)\n",
    "gpr_comb_intervals = comb_intervals1(gpr_crude_range, gpr_kuleshov_range)\n",
    "\n",
    "ngb_comb_intervals2 = comb_intervals2(ngb_crude_range, ngb_kuleshov_range)\n",
    "gpr_comb_intervals2 = comb_intervals2(gpr_crude_range, gpr_kuleshov_range)"
   ]
  },
  {
   "cell_type": "code",
   "execution_count": 121,
   "id": "93a2394c",
   "metadata": {},
   "outputs": [],
   "source": [
    "# X_len = 50\n",
    "# x = np.arange(X_len)  \n",
    "\n",
    "# fig, ax = plt.subplots(1,1, figsize=(15, 6))\n",
    "# plt.plot(x[:X_len], y_true_test[0:50], label='real')\n",
    "# plt.plot(x[:X_len], ngb_mean_true_test[0:50], '--', label='predicted')\n",
    "# plt.fill_between(x[:X_len], ngb_mean_true_test[0:50] - cdf_uncals_ngb[0:50,0]/2, ngb_mean_true_test[0:50] + cdf_uncals_ngb[0:50,0]/2,\n",
    "#                  color='gray', label='uncalibrated intervals', alpha=0.2)\n",
    "# plt.ylim(-0.55, 1.5)\n",
    "\n",
    "# plt.legend()\n",
    "# plt.show()\n",
    "\n",
    "# fig, ax = plt.subplots(1,1, figsize=(15, 6))\n",
    "# plt.plot(x[:X_len], y_true_test[0:50], label='real')\n",
    "# plt.plot(x[:X_len], ngb_mean_true_test[0:50], '--', label='predicted')\n",
    "# plt.fill_between(x[:X_len], ngb_mean_true_test[0:50] - cdf_cals_ngb[0:50,0]/2, ngb_mean_true_test[0:50] + cdf_cals_ngb[0:50,0]/2,\n",
    "#                  color='gray', label='kuleshov calibrated intervals', alpha=0.2)\n",
    "# plt.ylim(-0.55, 1.5)\n",
    "\n",
    "# plt.legend()\n",
    "# plt.show()\n",
    "\n",
    "# fig, ax = plt.subplots(1,1, figsize=(15, 6))\n",
    "# plt.plot(x[:X_len], y_true_test[0:50], label='real')\n",
    "# plt.plot(x[:X_len], ngb_mean_true_test[0:X_len], '--', label='predicted')\n",
    "# plt.fill_between(x[:X_len], ppf_ngb[0:X_len,0], ppf_ngb[0:X_len,37],\n",
    "#                  color='gray', alpha=0.2, label='kuleshov ppf 0.95')\n",
    "# plt.fill_between(x[:X_len], ppf_ngb[0:X_len,10], ppf_ngb[0:X_len,27],\n",
    "#                  color='salmon', alpha=0.2)\n",
    "# plt.ylim(-0.55, 1.5)\n",
    "\n",
    "# plt.legend()\n",
    "# plt.show()\n",
    "\n",
    "# fig, ax = plt.subplots(1,1, figsize=(15, 6))\n",
    "# plt.plot(x[:X_len], y_true_test[0:50], label='real')\n",
    "# plt.plot(x[:X_len], gpr_mean_true_test[0:50], '--', label='predicted')\n",
    "# plt.fill_between(x[:X_len], q_gpr[0:50,36], q_gpr[0:50,37],\n",
    "#                  color='gray', label='CRUDE calibrated intervals', alpha=0.2)\n",
    "# plt.ylim(-0.55, 1.5)\n",
    "\n",
    "# plt.legend()\n",
    "# plt.show()\n",
    "\n",
    "# fig, ax = plt.subplots(1,1, figsize=(15, 6))\n",
    "# plt.plot(x[:X_len], y_true_test[0:50], label='real')\n",
    "# plt.plot(x[:X_len], ngb_mean_true_test[0:50], '--', label='predicted')\n",
    "# plt.fill_between(x[:X_len], ngb_comb_intervals[0:50,0], ngb_comb_intervals[0:50,1],\n",
    "#                  color='gray', label='combined calibrated intervals', alpha=0.2)\n",
    "# plt.ylim(-0.55, 1.5)\n",
    "\n",
    "# plt.legend()\n",
    "# plt.show()\n",
    "\n",
    "# fig, ax = plt.subplots(1,1, figsize=(15, 6))\n",
    "# plt.plot(x[:X_len], y_true_test[0:50], label='real')\n",
    "# plt.plot(x[:X_len], ngb_mean_true_test[0:50], '--', label='predicted')\n",
    "# plt.fill_between(x[:X_len], ngb_comb_intervals2[0:50,0], ngb_comb_intervals2[0:50,1],\n",
    "#                  color='gray', label='combined calibrated intervals', alpha=0.2)\n",
    "# plt.ylim(-0.55, 1.5)\n",
    "\n",
    "# plt.legend()\n",
    "# plt.show()"
   ]
  },
  {
   "cell_type": "markdown",
   "id": "80a59d87",
   "metadata": {},
   "source": [
    "### Calculating sharpness"
   ]
  },
  {
   "cell_type": "code",
   "execution_count": 371,
   "id": "325f89f2",
   "metadata": {},
   "outputs": [],
   "source": [
    "def get_CI(interval):\n",
    "    CI = np.zeros((len(interval), 1))\n",
    "    for i in range(len(interval)):\n",
    "        CI[i] = interval[i,1] - interval[i,0]\n",
    "    return CI"
   ]
  },
  {
   "cell_type": "code",
   "execution_count": 372,
   "id": "c5b87db3",
   "metadata": {},
   "outputs": [],
   "source": [
    "ngb_CI_crude = get_CI(ngb_crude_range)\n",
    "gpr_CI_crude = get_CI(gpr_crude_range)\n",
    "\n",
    "ngb_CI_kule = get_CI(ngb_kuleshov_range)\n",
    "gpr_CI_kule = get_CI(gpr_kuleshov_range)\n",
    "\n",
    "ngb_CI_comb = get_CI(ngb_comb_intervals)\n",
    "gpr_CI_comb = get_CI(gpr_comb_intervals)\n",
    "\n",
    "ngb_CI_comb2 = get_CI(ngb_comb_intervals2)\n",
    "gpr_CI_comb2 = get_CI(gpr_comb_intervals2)"
   ]
  },
  {
   "cell_type": "code",
   "execution_count": 373,
   "id": "df645d67",
   "metadata": {},
   "outputs": [],
   "source": [
    "def calc_sharpness(cdf_cals):\n",
    "\n",
    "    var_ngb = 0\n",
    "    count_nan = 0\n",
    "    for i in range(len(cdf_cals)):\n",
    "        if math.isnan(cdf_cals[i]):\n",
    "            count_nan = count_nan + 1\n",
    "        else:\n",
    "            var_ngb = var_ngb + cdf_cals[i]\n",
    "\n",
    "\n",
    "    sharpness = var_ngb/(len(cdf_cals-count_nan))\n",
    "    return sharpness"
   ]
  },
  {
   "cell_type": "code",
   "execution_count": 374,
   "id": "82ab38d9",
   "metadata": {},
   "outputs": [
    {
     "name": "stdout",
     "output_type": "stream",
     "text": [
      "Kuleshov NgBoost [0.01079064]\n",
      "Kuleshov GPR [0.00537065]\n",
      "CRUDE NgBoost [0.01224615]\n",
      "CRUDE GPR [0.00848726]\n",
      "Comb 1 NgBoost [0.01079064]\n",
      "Comb 1 GPR [0.00537065]\n",
      "Comb 2 NgBoost [0.00458634]\n",
      "Comb 2 GPR [-0.0079031]\n"
     ]
    }
   ],
   "source": [
    "conf_int = [ngb_CI_kule, gpr_CI_kule, ngb_CI_crude, gpr_CI_crude, \n",
    "          ngb_CI_comb, gpr_CI_comb, ngb_CI_comb2, gpr_CI_comb2]\n",
    "names = ['Kuleshov NgBoost', 'Kuleshov GPR', 'CRUDE NgBoost', 'CRUDE GPR',\n",
    "        'Comb 1 NgBoost', 'Comb 1 GPR', 'Comb 2 NgBoost', 'Comb 2 GPR']\n",
    "\n",
    "sharp_ngb = np.zeros((int(len(names)/2), 1))\n",
    "sharp_gpr = np.zeros((int(len(names)/2), 1))\n",
    "for conf, i in zip(conf_int, range(len(names))):\n",
    "    if i%2 < 1:\n",
    "        sharpness = calc_sharpness(conf)\n",
    "        sharp_ngb[int(i/2)] = sharpness\n",
    "    else:\n",
    "        sharpness = calc_sharpness(conf)\n",
    "        sharp_gpr[int(i/2)] = sharpness\n",
    "        \n",
    "    print(names[i], sharpness)\n"
   ]
  },
  {
   "cell_type": "code",
   "execution_count": 375,
   "id": "1dfded82",
   "metadata": {},
   "outputs": [],
   "source": [
    "sharp_ngb = np.concatenate(sharp_ngb, axis=0 )\n",
    "sharp_gpr = np.concatenate(sharp_gpr, axis=0 )"
   ]
  },
  {
   "cell_type": "code",
   "execution_count": 376,
   "id": "8116abb6",
   "metadata": {},
   "outputs": [
    {
     "data": {
      "image/png": "[encoded data removed]",
      "text/plain": [
       "<Figure size 864x360 with 1 Axes>"
      ]
     },
     "metadata": {
      "needs_background": "light"
     },
     "output_type": "display_data"
    }
   ],
   "source": [
    "index = np.arange(4)\n",
    "bar_width = 0.35\n",
    "\n",
    "fig, ax = plt.subplots(1, 1, figsize=(12, 5))\n",
    "plt.bar(index, sharp_gpr, bar_width, label='Gaussian process regression')\n",
    "plt.bar(index + bar_width, sharp_ngb, bar_width, label='NgBoost')\n",
    "plt.xticks(index + bar_width/2, ('Kuleshov', 'CRUDE', 'Combination 1', 'Combination 2'))\n",
    "plt.ylabel('Sharpness')\n",
    "\n",
    "plt.legend()\n",
    "plt.show()"
   ]
  },
  {
   "cell_type": "markdown",
   "id": "18776f74",
   "metadata": {},
   "source": [
    "### When not to trust your model"
   ]
  },
  {
   "cell_type": "code",
   "execution_count": 118,
   "id": "36c87fca",
   "metadata": {},
   "outputs": [],
   "source": [
    "# conf_int = [ngb_CI_kule, gpr_CI_kule, ngb_CI_crude, gpr_CI_crude, \n",
    "#           ngb_CI_comb, gpr_CI_comb, ngb_CI_comb2, gpr_CI_comb2]\n",
    "\n",
    "flagged = np.zeros((len(cdf_cals_ngb), len(conf_int)))\n",
    "index = 0\n",
    "\n",
    "for conf in conf_int:\n",
    "    for i in range(len(conf)):\n",
    "        if conf[i] > 0.9:\n",
    "            flagged[i, index] = 1\n",
    "    index = index + 1\n",
    "            "
   ]
  },
  {
   "cell_type": "code",
   "execution_count": 119,
   "id": "c4b798e1",
   "metadata": {},
   "outputs": [
    {
     "name": "stdout",
     "output_type": "stream",
     "text": [
      "1842.0\n"
     ]
    }
   ],
   "source": [
    "num_ones = sum(cell for row in flagged for cell in row)\n",
    "print(num_ones)"
   ]
  },
  {
   "cell_type": "code",
   "execution_count": 120,
   "id": "34dc1f1a",
   "metadata": {},
   "outputs": [
    {
     "name": "stdout",
     "output_type": "stream",
     "text": [
      "17992\n",
      "0.10237883503779457\n"
     ]
    }
   ],
   "source": [
    "print(flagged.size)\n",
    "print(num_ones/flagged.size)"
   ]
  },
  {
   "cell_type": "markdown",
   "id": "fff5cb92",
   "metadata": {},
   "source": [
    "### Combination coverage"
   ]
  },
  {
   "cell_type": "code",
   "execution_count": 79,
   "id": "08135efb",
   "metadata": {},
   "outputs": [],
   "source": [
    "def comb_coverage(comb, y_true_test):\n",
    "   \n",
    "    cov = []\n",
    "    p_values = np.arange(0.05,1,0.05)\n",
    "    \n",
    "    for p in p_values:\n",
    "        count = 0\n",
    "        for i in range(len(comb)):\n",
    "            comb_range = comb[i,1] - comb[i,0] \n",
    "            if comb_range < p:\n",
    "                count = count + 1\n",
    "        cov.append(count/len(comb))\n",
    "        \n",
    "    return cov"
   ]
  },
  {
   "cell_type": "code",
   "execution_count": 90,
   "id": "3266a2ab",
   "metadata": {},
   "outputs": [],
   "source": [
    "def comb_cov(comb, y_true_test):\n",
    "   \n",
    "    count = 0\n",
    "    for i in range(len(comb)):\n",
    "        comb_range = comb[i,1] - comb[i,0] \n",
    "        if comb_range < 0.95:\n",
    "            count = count + 1\n",
    "    cov = count/len(comb)\n",
    "        \n",
    "    return cov"
   ]
  },
  {
   "cell_type": "code",
   "execution_count": 80,
   "id": "48b52805",
   "metadata": {},
   "outputs": [],
   "source": [
    "comb_cov_ngb = comb_coverage(ngb_comb_intervals, y_true_test)\n",
    "comb_cov_gpr = comb_coverage(gpr_comb_intervals, y_true_test)\n",
    "\n",
    "comb_cov_ngb2 = comb_coverage(ngb_comb_intervals2, y_true_test)\n",
    "comb_cov_gpr2 = comb_coverage(gpr_comb_intervals2, y_true_test)"
   ]
  },
  {
   "cell_type": "code",
   "execution_count": 91,
   "id": "4bd24f9d",
   "metadata": {},
   "outputs": [],
   "source": [
    "comb_c_ngb = comb_cov(ngb_comb_intervals, y_true_test)\n",
    "comb_c_gpr = comb_cov(gpr_comb_intervals, y_true_test)\n",
    "\n",
    "comb_c_ngb2 = comb_cov(ngb_comb_intervals2, y_true_test)\n",
    "comb_c_gpr2 = comb_cov(gpr_comb_intervals2, y_true_test)"
   ]
  },
  {
   "cell_type": "code",
   "execution_count": 92,
   "id": "41df0d0a",
   "metadata": {},
   "outputs": [
    {
     "name": "stdout",
     "output_type": "stream",
     "text": [
      "0.8070253445975989 1.0 0.8519341929746554 1.0\n"
     ]
    }
   ],
   "source": [
    "print(comb_c_ngb, comb_c_gpr, comb_c_ngb2, comb_c_gpr2)"
   ]
  },
  {
   "cell_type": "code",
   "execution_count": 87,
   "id": "b31db37d",
   "metadata": {},
   "outputs": [
    {
     "name": "stdout",
     "output_type": "stream",
     "text": [
      "[-0.06559771  0.06524566]\n",
      "[-0.35326363  0.32549825]\n",
      "[-0.06559771  0.05195917]\n",
      "[-0.35326363  0.22876734]\n",
      "[-0.08199121  0.05195917]\n",
      "[-0.48989314  0.22876734]\n",
      "[-0.06559771  0.06524566]\n",
      "[-0.35326363  0.32549825]\n"
     ]
    }
   ],
   "source": [
    "print(ngb_comb_intervals[0])\n",
    "print(gpr_comb_intervals[0])\n",
    "print(ngb_comb_intervals2[0])\n",
    "print(gpr_comb_intervals2[0])\n",
    "\n",
    "print(ngb_crude_range[0])\n",
    "print(gpr_crude_range[0])\n",
    "print(ngb_kuleshov_range[0])\n",
    "print(gpr_kuleshov_range[0])"
   ]
  },
  {
   "cell_type": "code",
   "execution_count": null,
   "id": "1b33c055",
   "metadata": {},
   "outputs": [],
   "source": []
  },
  {
   "cell_type": "code",
   "execution_count": 82,
   "id": "91ffe58a",
   "metadata": {},
   "outputs": [],
   "source": [
    "cov_kuleshov_gpr = np.zeros((len(cov_crude_gpr),1))\n",
    "cov_kuleshov_ngb = np.zeros((len(cov_crude_gpr),1))\n",
    "cov_unc_gpr = np.zeros((len(cov_crude_gpr),1))\n",
    "cov_unc_ngb = np.zeros((len(cov_crude_gpr),1))\n",
    "\n",
    "index = 0\n",
    "\n",
    "for i in range(len(cov_kuleshov_calc_gpr)):\n",
    "    if i%2==0:\n",
    "        cov_kuleshov_gpr[index] = cov_kuleshov_calc_gpr[i]\n",
    "        cov_kuleshov_ngb[index] = cov_kuleshov_calc_ngb[i]\n",
    "        cov_unc_gpr[index] = cov_uncal_gpr[i]\n",
    "        cov_unc_ngb[index] = cov_uncal_ngb[i]\n",
    "        index = index + 1\n"
   ]
  },
  {
   "cell_type": "code",
   "execution_count": 105,
   "id": "886abe78",
   "metadata": {},
   "outputs": [
    {
     "name": "stdout",
     "output_type": "stream",
     "text": [
      "[0.9461983103601601, 0.8981769675411294, 0.8501556247220987, 0.7901289461983103, 0.7474433081369497, 0.7020898176967542, 0.6571809693196976, 0.6082703423743886, 0.5695864828812806, 0.5100044464206314, 0.45131169408626054, 0.40684748777234325, 0.3534904401956425, 0.308581591818586, 0.25477990217874613, 0.2023121387283237, 0.15251222765673633, 0.10271231658514896, 0.05380168963983993]\n"
     ]
    }
   ],
   "source": [
    "print(cov_kuleshov_calc_gpr)"
   ]
  },
  {
   "cell_type": "markdown",
   "id": "27765fe8",
   "metadata": {},
   "source": [
    "### Comparison of coverage/recalibration"
   ]
  },
  {
   "cell_type": "code",
   "execution_count": 83,
   "id": "5e1f5e18",
   "metadata": {},
   "outputs": [
    {
     "data": {
      "image/png": "[encoded data removed]",
      "text/plain": [
       "<Figure size 864x360 with 2 Axes>"
      ]
     },
     "metadata": {
      "needs_background": "light"
     },
     "output_type": "display_data"
    }
   ],
   "source": [
    "x = np.linspace(0.05, 0.95, 19)\n",
    "\n",
    "fig, (ax1, ax2) = plt.subplots(1, 2, figsize=(12, 5))\n",
    "\n",
    "ax1.plot(x, x + 0, linestyle=\"dashed\", color='lightgray')\n",
    "ax1.plot(x, cov_crude_gpr, 'o', label='CRUDE')\n",
    "ax1.plot(x, cov_kuleshov_calc_gpr, 'o', label='Kuleshov')\n",
    "ax1.plot(x, cov_uncal_gpr, 'x', label='Uncalibrated')\n",
    "ax1.plot(x, comb_cov_gpr, '+', label='Combination 1')\n",
    "ax1.plot(x, comb_cov_gpr2, 'x', label='Combination 2')\n",
    "ax1.set_xlabel('Confidence limit')\n",
    "ax1.set_ylabel('Coverage')\n",
    "ax1.set_title('Gaussian Process Regression')\n",
    "ax1.legend()\n",
    "\n",
    "ax2.plot(x, x + 0, linestyle=\"dashed\", color='lightgray')\n",
    "ax2.plot(x, cov_crude_ngb, 'o', label='CRUDE')\n",
    "ax2.plot(x, cov_kuleshov_calc_ngb, 'o', label='Kuleshov')\n",
    "ax2.plot(x, cov_uncal_ngb, 'x', label='Uncalibrated')\n",
    "ax2.plot(x, comb_cov_ngb, '+', label='Combination 1')\n",
    "ax2.plot(x, comb_cov_gpr2, 'x', label='Combination 2')\n",
    "ax2.set_xlabel('Confidence limit')\n",
    "ax2.set_ylabel('Coverage')\n",
    "ax2.set_title('NgBoost')\n",
    "ax2.legend()\n",
    "\n",
    "plt.show()"
   ]
  },
  {
   "cell_type": "markdown",
   "id": "a1976ab1",
   "metadata": {},
   "source": [
    "### Boxplot of sharpness"
   ]
  },
  {
   "cell_type": "code",
   "execution_count": 93,
   "id": "f7784891",
   "metadata": {},
   "outputs": [],
   "source": [
    "lst1 = ['NgBoost'] * len(ngb_comb_intervals)\n",
    "lst2 = ['Gaussian Process Regression'] * len(ngb_comb_intervals)"
   ]
  },
  {
   "cell_type": "code",
   "execution_count": 94,
   "id": "7d6a85a6",
   "metadata": {},
   "outputs": [],
   "source": [
    "interval_name = ['crude_interval', 'kuleshov_interval', 'comb1_interval', 'comb2_interval', 'ngb_or_gpr']\n",
    "sharpness_ngb = pd.DataFrame(columns=interval_name)  \n",
    "sharpness_gpr = pd.DataFrame(columns=interval_name) \n",
    "sharpness_ngb['ngb_or_gpr'] = lst1\n",
    "sharpness_gpr['ngb_or_gpr'] = lst2"
   ]
  },
  {
   "cell_type": "code",
   "execution_count": 95,
   "id": "a6594c4e",
   "metadata": {},
   "outputs": [],
   "source": [
    "for i in range(len(ngb_comb_intervals)):\n",
    "    sharpness_ngb.loc[i, 'crude_interval'] = ngb_crude_range[i,1] - ngb_crude_range[i,0]\n",
    "    sharpness_ngb.loc[i, 'kuleshov_interval'] = ngb_kuleshov_range[i,1] - ngb_kuleshov_range[i,0]\n",
    "    sharpness_ngb.loc[i, 'comb1_interval'] = ngb_comb_intervals[i,1] - ngb_comb_intervals[i,0]\n",
    "    sharpness_ngb.loc[i, 'comb2_interval'] = ngb_comb_intervals2[i,1] - ngb_comb_intervals2[i,0]\n"
   ]
  },
  {
   "cell_type": "code",
   "execution_count": 96,
   "id": "00d3ee83",
   "metadata": {},
   "outputs": [],
   "source": [
    "for i in range(len(ngb_comb_intervals)):\n",
    "    sharpness_gpr.loc[i, 'crude_interval'] = gpr_crude_range[i,1] - gpr_crude_range[i,0]\n",
    "    sharpness_gpr.loc[i, 'kuleshov_interval'] = gpr_kuleshov_range[i,1] - gpr_kuleshov_range[i,0]\n",
    "    sharpness_gpr.loc[i, 'comb1_interval'] = gpr_comb_intervals[i,1] - gpr_comb_intervals[i,0]\n",
    "    sharpness_gpr.loc[i, 'comb2_interval'] = gpr_comb_intervals2[i,1] - gpr_comb_intervals2[i,0]\n"
   ]
  },
  {
   "cell_type": "code",
   "execution_count": 101,
   "id": "d64ddc80",
   "metadata": {},
   "outputs": [
    {
     "name": "stdout",
     "output_type": "stream",
     "text": [
      "[-0.08199121  0.05195917] [-0.48989314  0.22876734]\n"
     ]
    }
   ],
   "source": [
    "print(ngb_crude_range[0], gpr_crude_range[0])"
   ]
  },
  {
   "cell_type": "code",
   "execution_count": 97,
   "id": "d78c0901",
   "metadata": {},
   "outputs": [],
   "source": [
    "frames_ = [sharpness_ngb, sharpness_gpr]\n",
    "sharpness_boxplot = pd.concat(frames_)"
   ]
  },
  {
   "cell_type": "code",
   "execution_count": 98,
   "id": "296472d8",
   "metadata": {},
   "outputs": [
    {
     "name": "stdout",
     "output_type": "stream",
     "text": [
      "             variable     value\n",
      "0      crude_interval   0.13395\n",
      "1      crude_interval  0.108283\n",
      "2      crude_interval  0.165453\n",
      "3      crude_interval  0.404071\n",
      "4      crude_interval  0.402611\n",
      "...               ...       ...\n",
      "17987  comb2_interval  0.583984\n",
      "17988  comb2_interval  0.583016\n",
      "17989  comb2_interval  0.591674\n",
      "17990  comb2_interval  0.582749\n",
      "17991  comb2_interval  0.584701\n",
      "\n",
      "[17992 rows x 2 columns]\n"
     ]
    }
   ],
   "source": [
    "new_df = pd.melt(sharpness_boxplot.iloc[:,:4])\n",
    "print(new_df)"
   ]
  },
  {
   "cell_type": "code",
   "execution_count": 99,
   "id": "e32ec214",
   "metadata": {},
   "outputs": [],
   "source": [
    "for i in range(len(new_df)):\n",
    "    if i < len(ngb_crude_range):\n",
    "        new_df.loc[i, 'ngb_or_gpr'] = 'NgBoost'\n",
    "    elif i >= len(ngb_crude_range) and i < 2*len(ngb_crude_range):\n",
    "        new_df.loc[i, 'ngb_or_gpr'] = 'Gaussian Process Regression'\n",
    "    elif i >= 2*len(ngb_crude_range) and i < 3*len(ngb_crude_range):\n",
    "        new_df.loc[i, 'ngb_or_gpr'] = 'NgBoost'\n",
    "    elif i >= 3*len(ngb_crude_range) and i < 4*len(ngb_crude_range):\n",
    "        new_df.loc[i, 'ngb_or_gpr'] = 'Gaussian Process Regression'\n",
    "    elif i >= 4*len(ngb_crude_range) and i < 5*len(ngb_crude_range):\n",
    "        new_df.loc[i, 'ngb_or_gpr'] = 'NgBoost'\n",
    "    elif i >= 5*len(ngb_crude_range) and i < 6*len(ngb_crude_range):\n",
    "        new_df.loc[i, 'ngb_or_gpr'] = 'Gaussian Process Regression'\n",
    "    elif i >= 6*len(ngb_crude_range) and i < 7*len(ngb_crude_range):\n",
    "        new_df.loc[i, 'ngb_or_gpr'] = 'NgBoost'\n",
    "    else:\n",
    "        new_df.loc[i, 'ngb_or_gpr'] = 'Gaussian Process Regression'"
   ]
  },
  {
   "cell_type": "code",
   "execution_count": 100,
   "id": "3d1844ef",
   "metadata": {},
   "outputs": [
    {
     "data": {
      "image/png": "[encoded data removed]",
      "text/plain": [
       "<Figure size 1080x432 with 1 Axes>"
      ]
     },
     "metadata": {
      "needs_background": "light"
     },
     "output_type": "display_data"
    }
   ],
   "source": [
    "fig, ax = plt.subplots(1,1, figsize=(15, 6))\n",
    "ax = sns.boxplot(x='variable', y=\"value\", hue='ngb_or_gpr', data=new_df)"
   ]
  },
  {
   "cell_type": "markdown",
   "id": "ee16376a",
   "metadata": {},
   "source": [
    "### Coverage RMSE"
   ]
  },
  {
   "cell_type": "code",
   "execution_count": 102,
   "id": "58853001",
   "metadata": {},
   "outputs": [],
   "source": [
    "lst = ['cov_uncal_gpr', 'cov_crude_gpr', 'cov_kuleshov_gpr', 'comb_cov_gpr', 'comb_cov_gpr2',\n",
    "       'cov_uncal_ngb', 'cov_crude_ngb', 'cov_kuleshov_ngb', 'comb_cov_ngb', 'comb_cov_ngb2']\n",
    "coverages = [cov_uncal_gpr, cov_crude_gpr, cov_kuleshov_calc_gpr, comb_cov_gpr, comb_cov_gpr2,\n",
    "            cov_uncal_ngb, cov_crude_ngb, cov_kuleshov_calc_ngb, comb_cov_ngb, comb_cov_ngb2]\n",
    "\n",
    "df = pd.DataFrame(columns=lst)  "
   ]
  },
  {
   "cell_type": "code",
   "execution_count": 103,
   "id": "9cd9a0b4",
   "metadata": {},
   "outputs": [],
   "source": [
    "for (cov, col) in zip(coverages, lst):\n",
    "    for i in range(len(cov_unc_gpr)):\n",
    "        df.loc[i, col] = abs(x[i]-cov[i])"
   ]
  },
  {
   "cell_type": "code",
   "execution_count": 104,
   "id": "dda30089",
   "metadata": {},
   "outputs": [
    {
     "data": {
      "image/png": "[encoded data removed]",
      "text/plain": [
       "<Figure size 1080x360 with 2 Axes>"
      ]
     },
     "metadata": {
      "needs_background": "light"
     },
     "output_type": "display_data"
    }
   ],
   "source": [
    "fig, (ax1, ax2) = plt.subplots(1, 2, figsize=(15, 5))\n",
    "ax1.plot(x, df.cov_uncal_gpr.values, label='uncalibrated')\n",
    "ax1.plot(x, df.cov_crude_gpr.values, label='CRUDE')\n",
    "ax1.plot(x, df.cov_kuleshov_gpr.values, label='Kuleshov')\n",
    "ax1.plot(x, df.comb_cov_gpr.values, label='comb')\n",
    "ax1.plot(x, df.comb_cov_gpr2.values, label='comb2')\n",
    "ax1.legend()\n",
    "\n",
    "ax2.plot(x, df.cov_uncal_ngb.values, label='uncalibrated')\n",
    "ax2.plot(x, df.cov_crude_ngb.values, label='CRUDE')\n",
    "ax2.plot(x, df.cov_kuleshov_ngb.values, label='Kuleshov')\n",
    "ax2.plot(x, df.comb_cov_ngb.values, label='comb')\n",
    "ax2.plot(x, df.comb_cov_ngb2.values, label='comb2')\n",
    "ax2.legend()\n",
    "\n",
    "plt.show()"
   ]
  },
  {
   "cell_type": "code",
   "execution_count": null,
   "id": "96ac9390",
   "metadata": {},
   "outputs": [],
   "source": [
    "rmse = []\n",
    "\n",
    "for col in lst:\n",
    "    sum_ = sum(df[col].values)\n",
    "    rmse.append(sum_/len(df[col]))\n"
   ]
  },
  {
   "cell_type": "code",
   "execution_count": null,
   "id": "c3998023",
   "metadata": {},
   "outputs": [],
   "source": [
    "for (i, col) in zip(rmse, lst):\n",
    "    print(col, i)"
   ]
  },
  {
   "cell_type": "code",
   "execution_count": null,
   "id": "8d5d4508",
   "metadata": {},
   "outputs": [],
   "source": [
    "index = np.arange(5)\n",
    "bar_width = 0.35\n",
    "gpr = rmse[0:5]\n",
    "ngb = rmse[5:10]\n",
    "\n",
    "fig, ax = plt.subplots(1, 1, figsize=(12, 5))\n",
    "plt.bar(index, gpr, bar_width, label='Gaussian process regression')\n",
    "plt.bar(index + bar_width, ngb, bar_width, label='NgBoost')\n",
    "plt.xticks(index + bar_width/2, ('Uncalibrated', 'CRUDE', 'Kuleshov', 'Combination 1', 'Combination 2'))\n",
    "plt.ylabel('RMSE')\n",
    "\n",
    "plt.legend()\n",
    "plt.show()"
   ]
  },
  {
   "cell_type": "code",
   "execution_count": null,
   "id": "a33de83f",
   "metadata": {},
   "outputs": [],
   "source": [
    "fig, ax = plt.subplots(1, 1, figsize=(8, 5))\n",
    "plt.bar(index[0:3], gpr[0:3], bar_width, label='Gaussian process regression')\n",
    "plt.bar(index[0:3] + bar_width, ngb[0:3], bar_width, label='NgBoost')\n",
    "plt.xticks(index[0:3] + bar_width/2, ('Uncalibrated', 'CRUDE', 'Kuleshov'))\n",
    "plt.ylabel('RMSE')\n",
    "\n",
    "plt.legend()\n",
    "plt.show()"
   ]
  }
 ],
 "metadata": {
  "kernelspec": {
   "display_name": "Python 3",
   "language": "python",
   "name": "python3"
  },
  "language_info": {
   "codemirror_mode": {
    "name": "ipython",
    "version": 3
   },
   "file_extension": ".py",
   "mimetype": "text/x-python",
   "name": "python",
   "nbconvert_exporter": "python",
   "pygments_lexer": "ipython3",
   "version": "3.8.5"
  }
 },
 "nbformat": 4,
 "nbformat_minor": 5
}
